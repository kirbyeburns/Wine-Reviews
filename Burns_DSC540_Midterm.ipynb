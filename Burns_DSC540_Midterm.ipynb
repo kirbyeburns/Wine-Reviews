{
 "cells": [
  {
   "cell_type": "markdown",
   "metadata": {},
   "source": [
    "# Robert K burns\n",
    "## DSC540 Midterm Assignment\n",
    "#### July 10, 2019"
   ]
  },
  {
   "cell_type": "markdown",
   "metadata": {},
   "source": [
    "This program does a couple of things that are slightly outside the realm of what was asked for in the assignment because the dataset I used did not require as much in the way of transformations.  I have noted below."
   ]
  },
  {
   "cell_type": "code",
   "execution_count": 1,
   "metadata": {},
   "outputs": [],
   "source": [
    "# importing packages\n",
    "import glob\n",
    "import pandas as pd\n",
    "from csv import reader"
   ]
  },
  {
   "cell_type": "code",
   "execution_count": 2,
   "metadata": {},
   "outputs": [],
   "source": [
    "# reading in three datasets.  Two are wine reviews and one is the headers, but there's a twist!\n",
    "wine1_rdr = reader(open('wine1.csv', encoding= \"utf-8-sig\"))\n",
    "wine2_rdr = reader(open('wine2.csv', 'r', encoding=\"utf-8-sig\"))\n",
    "wine_headers_rdr = reader(open('wine_headers.csv', 'r', encoding=\"utf-8-sig\"))"
   ]
  },
  {
   "cell_type": "code",
   "execution_count": 3,
   "metadata": {},
   "outputs": [],
   "source": [
    "# iterating through the rows\n",
    "data_rows1 = [d for d in wine1_rdr]\n",
    "data_rows2 = [d for d in wine2_rdr]\n",
    "data_rows_headers = [h for h in wine_headers_rdr]"
   ]
  },
  {
   "cell_type": "code",
   "execution_count": 4,
   "metadata": {},
   "outputs": [
    {
     "data": {
      "text/plain": [
       "[['Cat1', 'number'],\n",
       " ['Cat2', 'country'],\n",
       " ['Cat3', 'description'],\n",
       " ['Cat4', 'designation'],\n",
       " ['Cat5', 'points'],\n",
       " ['Cat6', 'price'],\n",
       " ['Cat7', 'province'],\n",
       " ['Cat8', 'region_1'],\n",
       " ['Cat9', 'region_2'],\n",
       " ['Cat10', 'variety'],\n",
       " ['Cat11', 'winery']]"
      ]
     },
     "execution_count": 4,
     "metadata": {},
     "output_type": "execute_result"
    }
   ],
   "source": [
    "# checking out the headers\n",
    "data_rows_headers[:]"
   ]
  },
  {
   "cell_type": "code",
   "execution_count": 5,
   "metadata": {
    "scrolled": true
   },
   "outputs": [
    {
     "data": {
      "text/plain": [
       "[['Cat1',\n",
       "  'Cat2',\n",
       "  'Cat3',\n",
       "  'Cat4',\n",
       "  'Cat5',\n",
       "  'Cat6',\n",
       "  'Cat7',\n",
       "  'Cat8',\n",
       "  'Cat9',\n",
       "  'Cat10',\n",
       "  'Cat11'],\n",
       " ['0',\n",
       "  'US',\n",
       "  'This tremendous 100% varietal wine hails from Oakville and was aged over three years in oak. Juicy red-cherry fruit and a compelling hint of caramel greet the palate, framed by elegant, fine tannins and a subtle minty tone in the background. Balanced and rewarding from start to finish, it has years ahead of it to develop further nuance. Enjoy 2022–2030.',\n",
       "  \"Martha's Vineyard\",\n",
       "  '96',\n",
       "  '235',\n",
       "  'California',\n",
       "  'Napa Valley',\n",
       "  'Napa',\n",
       "  'Cabernet Sauvignon',\n",
       "  'Heitz'],\n",
       " ['1',\n",
       "  'Spain',\n",
       "  'Ripe aromas of fig, blackberry and cassis are softened and sweetened by a slathering of oaky chocolate and vanilla. This is full, layered, intense and cushioned on the palate, with rich flavors of chocolaty black fruits and baking spices. A toasty, everlasting finish is heady but ideally balanced. Drink through 2023.',\n",
       "  'Carodorum Selección Especial Reserva',\n",
       "  '96',\n",
       "  '110',\n",
       "  'Northern Spain',\n",
       "  'Toro',\n",
       "  '',\n",
       "  'Tinta de Toro',\n",
       "  'Bodega Carmen Rodríguez'],\n",
       " ['2',\n",
       "  'US',\n",
       "  'Mac Watson honors the memory of a wine once made by his mother in this tremendously delicious, balanced and complex botrytised white. Dark gold in color, it layers toasted hazelnut, pear compote and orange peel flavors, reveling in the succulence of its 122 g/L of residual sugar.',\n",
       "  'Special Selected Late Harvest',\n",
       "  '96',\n",
       "  '90',\n",
       "  'California',\n",
       "  'Knights Valley',\n",
       "  'Sonoma',\n",
       "  'Sauvignon Blanc',\n",
       "  'Macauley'],\n",
       " ['3',\n",
       "  'US',\n",
       "  \"This spent 20 months in 30% new French oak, and incorporates fruit from Ponzi's Aurora, Abetina and Madrona vineyards, among others. Aromatic, dense and toasty, it deftly blends aromas and flavors of toast, cigar box, blackberry, black cherry, coffee and graphite. Tannins are polished to a fine sheen, and frame a finish loaded with dark chocolate and espresso. Drink now through 2032.\",\n",
       "  'Reserve',\n",
       "  '96',\n",
       "  '65',\n",
       "  'Oregon',\n",
       "  'Willamette Valley',\n",
       "  'Willamette Valley',\n",
       "  'Pinot Noir',\n",
       "  'Ponzi']]"
      ]
     },
     "execution_count": 5,
     "metadata": {},
     "output_type": "execute_result"
    }
   ],
   "source": [
    "# checking out the first csv\n",
    "data_rows1[:5]"
   ]
  },
  {
   "cell_type": "code",
   "execution_count": 6,
   "metadata": {},
   "outputs": [
    {
     "data": {
      "text/plain": [
       "[['Cat1',\n",
       "  'Cat2',\n",
       "  'Cat3',\n",
       "  'Cat4',\n",
       "  'Cat5',\n",
       "  'Cat6',\n",
       "  'Cat7',\n",
       "  'Cat8',\n",
       "  'Cat9',\n",
       "  'Cat10',\n",
       "  'Cat11',\n",
       "  'Cat12',\n",
       "  'Cat13',\n",
       "  'Cat14'],\n",
       " ['0',\n",
       "  'Italy',\n",
       "  \"Aromas include tropical fruit, broom, brimstone and dried herb. The palate isn't overly expressive, offering unripened apple, citrus and dried sage alongside brisk acidity.\",\n",
       "  'Vulkà Bianco',\n",
       "  '87',\n",
       "  '',\n",
       "  'Sicily & Sardinia',\n",
       "  'Etna',\n",
       "  '',\n",
       "  'Kerin O’Keefe',\n",
       "  '@kerinokeefe',\n",
       "  'Nicosia 2013 Vulkà Bianco  (Etna)',\n",
       "  'White Blend',\n",
       "  'Nicosia'],\n",
       " ['1',\n",
       "  'Portugal',\n",
       "  \"This is ripe and fruity, a wine that is smooth while still structured. Firm tannins are filled out with juicy red berry fruits and freshened with acidity. It's  already drinkable, although it will certainly be better from 2016.\",\n",
       "  'Avidagos',\n",
       "  '87',\n",
       "  '15',\n",
       "  'Douro',\n",
       "  '',\n",
       "  '',\n",
       "  'Roger Voss',\n",
       "  '@vossroger',\n",
       "  'Quinta dos Avidagos 2011 Avidagos Red (Douro)',\n",
       "  'Portuguese Red',\n",
       "  'Quinta dos Avidagos'],\n",
       " ['2',\n",
       "  'US',\n",
       "  'Tart and snappy, the flavors of lime flesh and rind dominate. Some green pineapple pokes through, with crisp acidity underscoring the flavors. The wine was all stainless-steel fermented.',\n",
       "  '',\n",
       "  '87',\n",
       "  '14',\n",
       "  'Oregon',\n",
       "  'Willamette Valley',\n",
       "  'Willamette Valley',\n",
       "  'Paul Gregutt',\n",
       "  '@paulgwine\\xa0',\n",
       "  'Rainstorm 2013 Pinot Gris (Willamette Valley)',\n",
       "  'Pinot Gris',\n",
       "  'Rainstorm'],\n",
       " ['3',\n",
       "  'US',\n",
       "  'Pineapple rind, lemon pith and orange blossom start off the aromas. The palate is a bit more opulent, with notes of honey-drizzled guava and mango giving way to a slightly astringent, semidry finish.',\n",
       "  'Reserve Late Harvest',\n",
       "  '87',\n",
       "  '13',\n",
       "  'Michigan',\n",
       "  'Lake Michigan Shore',\n",
       "  '',\n",
       "  'Alexander Peartree',\n",
       "  '',\n",
       "  'St. Julian 2013 Reserve Late Harvest Riesling (Lake Michigan Shore)',\n",
       "  'Riesling',\n",
       "  'St. Julian']]"
      ]
     },
     "execution_count": 6,
     "metadata": {},
     "output_type": "execute_result"
    }
   ],
   "source": [
    "# checking out the second csv\n",
    "data_rows2[:5]"
   ]
  },
  {
   "cell_type": "markdown",
   "metadata": {},
   "source": [
    "Apparently, there are more columns in the second csv than in the first.  Also, the headers csv only reflect the columns in the first file."
   ]
  },
  {
   "cell_type": "code",
   "execution_count": 7,
   "metadata": {},
   "outputs": [],
   "source": [
    "# categories 10, 11, and 12 are missing from the first file, so i will delete from second file\n",
    "f=pd.read_csv(\"wine2.csv\")\n",
    "keep_col = ['Cat1','Cat2','Cat3','Cat4','Cat5','Cat6','Cat7','Cat8','Cat9','Cat13','Cat14']\n",
    "new_f = f[keep_col]\n",
    "new_f.to_csv(\"new_wine2.csv\", index = False)"
   ]
  },
  {
   "cell_type": "code",
   "execution_count": 8,
   "metadata": {},
   "outputs": [],
   "source": [
    "# renaming column 13 and 14 to line up with each other\n",
    "fix = pd.read_csv(\"new_wine2.csv\")\n",
    "new_fix = fix.rename(columns=({'Cat13':'Cat10', 'Cat14': 'Cat11'}))\n",
    "new_fix.to_csv(\"fixed_wine2.csv\", index = False)"
   ]
  },
  {
   "cell_type": "markdown",
   "metadata": {},
   "source": [
    "Now that I have transformed the second csv to be similar to the first, I need to join them together"
   ]
  },
  {
   "cell_type": "code",
   "execution_count": 9,
   "metadata": {},
   "outputs": [],
   "source": [
    "all_filenames = ['wine1.csv', 'fixed_wine2.csv']"
   ]
  },
  {
   "cell_type": "code",
   "execution_count": 10,
   "metadata": {},
   "outputs": [],
   "source": [
    "# combine the files in a list\n",
    "full_wine = pd.concat([pd.read_csv(f) for f in all_filenames])\n",
    "# export to csv - creating one new file to be read in\n",
    "full_wine.to_csv(\"full_wine.csv\", index = False, encoding = 'utf-8-sig')"
   ]
  },
  {
   "cell_type": "code",
   "execution_count": 11,
   "metadata": {},
   "outputs": [],
   "source": [
    "# reading in the file with all the reviews\n",
    "wine_full_rdr = reader(open('full_wine.csv', 'r', encoding= \"utf-8-sig\"))"
   ]
  },
  {
   "cell_type": "code",
   "execution_count": 12,
   "metadata": {},
   "outputs": [],
   "source": [
    "data_full_rows = [d for d in wine_full_rdr]"
   ]
  },
  {
   "cell_type": "code",
   "execution_count": 13,
   "metadata": {},
   "outputs": [
    {
     "data": {
      "text/plain": [
       "[['Cat1',\n",
       "  'Cat2',\n",
       "  'Cat3',\n",
       "  'Cat4',\n",
       "  'Cat5',\n",
       "  'Cat6',\n",
       "  'Cat7',\n",
       "  'Cat8',\n",
       "  'Cat9',\n",
       "  'Cat10',\n",
       "  'Cat11'],\n",
       " ['0',\n",
       "  'US',\n",
       "  'This tremendous 100% varietal wine hails from Oakville and was aged over three years in oak. Juicy red-cherry fruit and a compelling hint of caramel greet the palate, framed by elegant, fine tannins and a subtle minty tone in the background. Balanced and rewarding from start to finish, it has years ahead of it to develop further nuance. Enjoy 2022–2030.',\n",
       "  \"Martha's Vineyard\",\n",
       "  '96',\n",
       "  '235.0',\n",
       "  'California',\n",
       "  'Napa Valley',\n",
       "  'Napa',\n",
       "  'Cabernet Sauvignon',\n",
       "  'Heitz'],\n",
       " ['1',\n",
       "  'Spain',\n",
       "  'Ripe aromas of fig, blackberry and cassis are softened and sweetened by a slathering of oaky chocolate and vanilla. This is full, layered, intense and cushioned on the palate, with rich flavors of chocolaty black fruits and baking spices. A toasty, everlasting finish is heady but ideally balanced. Drink through 2023.',\n",
       "  'Carodorum Selección Especial Reserva',\n",
       "  '96',\n",
       "  '110.0',\n",
       "  'Northern Spain',\n",
       "  'Toro',\n",
       "  '',\n",
       "  'Tinta de Toro',\n",
       "  'Bodega Carmen Rodríguez'],\n",
       " ['2',\n",
       "  'US',\n",
       "  'Mac Watson honors the memory of a wine once made by his mother in this tremendously delicious, balanced and complex botrytised white. Dark gold in color, it layers toasted hazelnut, pear compote and orange peel flavors, reveling in the succulence of its 122 g/L of residual sugar.',\n",
       "  'Special Selected Late Harvest',\n",
       "  '96',\n",
       "  '90.0',\n",
       "  'California',\n",
       "  'Knights Valley',\n",
       "  'Sonoma',\n",
       "  'Sauvignon Blanc',\n",
       "  'Macauley'],\n",
       " ['3',\n",
       "  'US',\n",
       "  \"This spent 20 months in 30% new French oak, and incorporates fruit from Ponzi's Aurora, Abetina and Madrona vineyards, among others. Aromatic, dense and toasty, it deftly blends aromas and flavors of toast, cigar box, blackberry, black cherry, coffee and graphite. Tannins are polished to a fine sheen, and frame a finish loaded with dark chocolate and espresso. Drink now through 2032.\",\n",
       "  'Reserve',\n",
       "  '96',\n",
       "  '65.0',\n",
       "  'Oregon',\n",
       "  'Willamette Valley',\n",
       "  'Willamette Valley',\n",
       "  'Pinot Noir',\n",
       "  'Ponzi']]"
      ]
     },
     "execution_count": 13,
     "metadata": {},
     "output_type": "execute_result"
    }
   ],
   "source": [
    "# checking it out\n",
    "data_full_rows[:5]"
   ]
  },
  {
   "cell_type": "markdown",
   "metadata": {},
   "source": [
    "Now, I'm going to make the data a little more readable, in case you want to view a specific result number."
   ]
  },
  {
   "cell_type": "code",
   "execution_count": 14,
   "metadata": {},
   "outputs": [],
   "source": [
    "zip_data = []"
   ]
  },
  {
   "cell_type": "code",
   "execution_count": 15,
   "metadata": {},
   "outputs": [],
   "source": [
    "for drow in data_full_rows:\n",
    "    \"\"\"zips each row and adds it to a the array, zipped_data\"\"\"\n",
    "    zip_data.append(list(zip(data_rows_headers, drow)))"
   ]
  },
  {
   "cell_type": "code",
   "execution_count": null,
   "metadata": {},
   "outputs": [],
   "source": []
  },
  {
   "cell_type": "code",
   "execution_count": 16,
   "metadata": {
    "scrolled": true
   },
   "outputs": [
    {
     "name": "stdout",
     "output_type": "stream",
     "text": [
      "(0, (['Cat1', 'number'], 'Cat1'))\n",
      "(1, (['Cat2', 'country'], 'Cat2'))\n",
      "(2, (['Cat3', 'description'], 'Cat3'))\n",
      "(3, (['Cat4', 'designation'], 'Cat4'))\n",
      "(4, (['Cat5', 'points'], 'Cat5'))\n"
     ]
    }
   ],
   "source": [
    "for x in enumerate(zip_data[0][:5]):\n",
    "    \"\"\"uses enumerate to check to see which lines need to be evaluated\"\"\"\n",
    "    print(x)"
   ]
  },
  {
   "cell_type": "code",
   "execution_count": 22,
   "metadata": {},
   "outputs": [
    {
     "data": {
      "text/plain": [
       "[(['Cat1', 'number'], '0'),\n",
       " (['Cat2', 'country'], 'US'),\n",
       " (['Cat3', 'description'],\n",
       "  'This tremendous 100% varietal wine hails from Oakville and was aged over three years in oak. Juicy red-cherry fruit and a compelling hint of caramel greet the palate, framed by elegant, fine tannins and a subtle minty tone in the background. Balanced and rewarding from start to finish, it has years ahead of it to develop further nuance. Enjoy 2022–2030.'),\n",
       " (['Cat4', 'designation'], \"Martha's Vineyard\"),\n",
       " (['Cat5', 'points'], '96'),\n",
       " (['Cat6', 'price'], '235.0'),\n",
       " (['Cat7', 'province'], 'California'),\n",
       " (['Cat8', 'region_1'], 'Napa Valley'),\n",
       " (['Cat9', 'region_2'], 'Napa'),\n",
       " (['Cat10', 'variety'], 'Cabernet Sauvignon'),\n",
       " (['Cat11', 'winery'], 'Heitz')]"
      ]
     },
     "execution_count": 22,
     "metadata": {},
     "output_type": "execute_result"
    }
   ],
   "source": [
    "zip_data[1]"
   ]
  },
  {
   "cell_type": "code",
   "execution_count": 17,
   "metadata": {},
   "outputs": [
    {
     "name": "stdout",
     "output_type": "stream",
     "text": [
      "Category: number\n",
      ": 14542\n",
      "Category: country\n",
      ": Italy\n",
      "Category: description\n",
      ": Bolla is an iconic name for Soave and this bright wine delivers all the ease and good cheer you can expect from an easy Italian white. Citrus and stone fruit aromas are followed by a soft, slightly sweet mouthfeel.\n",
      "Category: designation\n",
      ": Rétro\n",
      "Category: points\n",
      ": 85\n",
      "Category: price\n",
      ": 10.0\n",
      "Category: province\n",
      ": Veneto\n",
      "Category: region_1\n",
      ": Soave Classico\n",
      "Category: region_2\n",
      ": \n",
      "Category: variety\n",
      ": Garganega\n",
      "Category: winery\n",
      ": Bolla\n"
     ]
    }
   ],
   "source": [
    "for x in zip_data[14543]:\n",
    "    \"\"\"uses the format function to designate where the data will go\"\"\"\n",
    "    print('Category: {[1]}\\n: {}'.format(x[0], x[1]))"
   ]
  },
  {
   "cell_type": "markdown",
   "metadata": {},
   "source": [
    "That's starting to look pretty good, I think.  Becasue these are reviews of some of the same wines, from the same regions, I did not try to look for duplicates, as many columns will have duplicates.\n",
    "And, since I didn't really have the need for fuzzy matching this time, I decided I would vectorize the reviews and look for positive and negative responses.\n",
    "\n",
    "This is pretty simple and could be expanded upon by writing in some exception handling and I was thinking it would be better if I was able to average the score you see at the bottom by the number of reviews that were vectorized.  But, I thought it was pretty cool."
   ]
  },
  {
   "cell_type": "code",
   "execution_count": 18,
   "metadata": {},
   "outputs": [],
   "source": [
    "from sklearn.feature_extraction.text import CountVectorizer"
   ]
  },
  {
   "cell_type": "code",
   "execution_count": 19,
   "metadata": {},
   "outputs": [],
   "source": [
    "# reading in the file as a pandas dataframe\n",
    "reviews='full_wine.csv'\n",
    "dataframe = pd.read_csv(reviews)"
   ]
  },
  {
   "cell_type": "code",
   "execution_count": 20,
   "metadata": {
    "scrolled": true
   },
   "outputs": [
    {
     "name": "stdout",
     "output_type": "stream",
     "text": [
      "For which country would you like to see the wine words score?\n",
      "Your choices are, US, France, Italy, Spain and Portugal.Let's face it, are you really going to drink wine from somewhere else?:Portugal\n"
     ]
    }
   ],
   "source": [
    "# asking for user input - it's kind of basic and i did not add any provisions for incorrect input\n",
    "print(\"For which country would you like to see the wine words score?\")\n",
    "selection = input(\"Your choices are, US, France, Italy, Spain and Portugal. \"\n",
    "                  \"Let's face it, are you really going to drink wine from somewhere else?: \")"
   ]
  },
  {
   "cell_type": "code",
   "execution_count": null,
   "metadata": {},
   "outputs": [],
   "source": []
  },
  {
   "cell_type": "code",
   "execution_count": 21,
   "metadata": {},
   "outputs": [
    {
     "name": "stdout",
     "output_type": "stream",
     "text": [
      "Portugal\n"
     ]
    }
   ],
   "source": [
    "# just checking\n",
    "print(selection)"
   ]
  },
  {
   "cell_type": "code",
   "execution_count": 22,
   "metadata": {},
   "outputs": [],
   "source": [
    "# filtering the file to only include those from the selected region\n",
    "selected = dataframe[dataframe['Cat2'] == selection]\n",
    "corpus = selected['Cat3']"
   ]
  },
  {
   "cell_type": "code",
   "execution_count": 23,
   "metadata": {},
   "outputs": [
    {
     "name": "stdout",
     "output_type": "stream",
     "text": [
      "\n",
      "vectorized words\n",
      "\n",
      "['000', '10', '100', '100th', '12', '1290', '13th', '14', '1498', '14th', '15', '1500', '15th', '16', '1610', '1667', '16th', '17', '170', '1737', '1744', '1756', '1790', '17th', '18', '1800', '1820s', '1829', '1830s', '1850', '1850s', '1862', '1878', '1881', '18th', '19', '1912', '1930s', '1960', '1966', '1967', '1974', '1980', '1981', '1983', '1985', '1986', '1990s', '1992', '1996', '1997', '1998', '1999', '19th', '20', '200', '2000', '2001', '2002', '2003', '2004', '2005', '2006', '2007', '2008', '2009', '200th', '2010', '2011', '2012', '2013', '2014', '2015', '2016', '2017', '2018', '2019', '2020', '2021', '2022', '2023', '2024', '2025', '2026', '2027', '2028', '2030', '2050', '20th', '21', '22', '24', '25', '25th', '26', '27', '28', '30', '325th', '34', '35', '40', '41', '45', '50', '500', '500th', '60', '65', '70', '73', '74', '75', '80', '800', '82', '85', '90', '900', '90th', '95', 'abilio', 'ability', 'able', 'abound', 'abounds', 'about', 'above', 'abreu', 'absorbed', 'abundance', 'abundant', 'accent', 'accented', 'accents', 'acceptable', 'accessible', 'accompanied', 'accompanies', 'accompaniment', 'accompany', 'accompanying', 'according', 'achieve', 'achievement', 'achieves', 'acid', 'acidic', 'acidify', 'acidity', 'acids', 'acidty', 'aciidty', 'aciprestes', 'acquired', 'acre', 'acres', 'across', 'act', 'acting', 'action', 'acts', 'actually', 'add', 'added', 'adding', 'addition', 'additional', 'additions', 'adds', 'adega', 'adelaide', 'adjective', 'adjectives', 'adjusted', 'admirable', 'admirably', 'admiral', 'admire', 'admittedly', 'adriano', 'advantage', 'advertisement', 'affectation', 'affected', 'africa', 'after', 'aftertaste', 'afterthought', 'again', 'against', 'age', 'ageability', 'ageable', 'aged', 'ages', 'ageworthy', 'aggressive', 'aging', 'ago', 'agueira', 'aguia', 'aguieira', 'ahead', 'aided', 'aidil', 'aim', 'aimed', 'aiming', 'aims', 'air', 'aire', 'aires', 'airing', 'airy', 'aka', 'akin', 'al', 'alabastro', 'alavarinho', 'alba', 'albariño', 'alcohol', 'alcoholic', 'alentejano', 'alentejo', 'alexandre', 'alfrocheiro', 'alfrochiero', 'algarve', 'aliança', 'alicante', 'alice', 'alike', 'alive', 'all', 'allied', 'allow', 'allowed', 'allowing', 'allows', 'allure', 'ally', 'almeida', 'almeirim', 'almond', 'almonds', 'almost', 'alone', 'along', 'alongside', 'alorna', 'already', 'alsace', 'also', 'altano', 'alter', 'although', 'altitude', 'alto', 'altogether', 'alvarelhão', 'alvarinho', 'alvarinhos', 'alvaro', 'always', 'amantis', 'amarante', 'amarela', 'amazing', 'amazingly', 'amber', 'ambitious', 'ameliorated', 'america', 'american', 'amicably', 'amid', 'among', 'amontillado', 'amores', 'amorim', 'amount', 'amounts', 'amped', 'amphora', 'amphorae', 'amphoras', 'ample', 'amply', 'amuse', 'an', 'ancestor', 'anchor', 'anchored', 'ancient', 'and', 'andconcentrated', 'andersen', 'andsoft', 'angle', 'angled', 'anglo', 'angular', 'animale', 'anise', 'anniversary', 'anonymous', 'another', 'anselmo', 'answer', 'antidote', 'antonia', 'antonion', 'antunes', 'antâo', 'antão', 'antónia', 'antónio', 'any', 'anybody', 'anything', 'anytime', 'anywhere', 'apart', 'apegadas', 'aperitif', 'apparent', 'appeal', 'appealing', 'appear', 'appearance', 'appeared', 'appears', 'appellation', 'apple', 'apples', 'applesauce', 'appley', 'applies', 'appreciable', 'appreciate', 'appreciating', 'approach', 'approachability', 'approachable', 'approaches', 'approaching', 'appropriately', 'approved', 'approximate', 'apricot', 'apricots', 'aptitude', 'apèritif', 'apéritif', 'apéritifs', 'arabic', 'arabica', 'aragon', 'aragones', 'aragonez', 'aragonâs', 'aragonês', 'arcas', 'archbishop', 'architect', 'are', 'area', 'areas', 'aren', 'arena', 'ares', 'arguably', 'arinto', 'aristocrat', 'aristocratic', 'arm', 'armagnac', 'aroma', 'aromas', 'aromatic', 'aromatically', 'aromatics', 'around', 'array', 'arrived', 'arrow', 'arte', 'artificial', 'as', 'ashby', 'asian', 'aside', 'asparagus', 'aspect', 'assemblage', 'assembled', 'assertive', 'asserts', 'assimilate', 'assimilated', 'assobio', 'associated', 'assured', 'asti', 'astonishing', 'astringency', 'astringent', 'astrolabe', 'at', 'ataíde', 'atlantic', 'atop', 'attack', 'attain', 'attendant', 'attention', 'attenuated', 'attitude', 'attraction', 'attractive', 'attractively', 'attractiveness', 'attracts', 'attributes', 'atypical', 'atypically', 'au', 'auction', 'augure', 'auru', 'austere', 'austerely', 'austerity', 'australia', 'australian', 'authority', 'authors', 'available', 'aveleda', 'average', 'avesso', 'avidagos', 'avila', 'avoid', 'avoided', 'avoids', 'await', 'away', 'awkward', 'awkwardly', 'azal', 'azamor', 'azeitão', 'azul', 'azulejos', 'baby', 'bacalhâo', 'bacalhôa', 'back', 'backbone', 'backdrop', 'backed', 'background', 'backing', 'bacon', 'bad', 'bag', 'baga', 'bages', 'bagos', 'bairrada', 'bairradas', 'baixo', 'baja', 'baked', 'bakes', 'balance', 'balanced', 'balances', 'balancing', 'ball', 'balsa', 'balsam', 'banana', 'band', 'bank', 'baptista', 'barbecue', 'barbecues', 'barca', 'bare', 'barely', 'barest', 'barge', 'baring', 'barn', 'barnyard', 'barnyardy', 'barocca', 'baron', 'barred', 'barrel', 'barrels', 'barricas', 'barrique', 'barroca', 'barros', 'bars', 'bartlett', 'base', 'based', 'basic', 'basil', 'basis', 'bastardo', 'battle', 'battlefields', 'baverstock', 'be', 'beach', 'beaches', 'bean', 'bear', 'bearing', 'bears', 'beast', 'beautiful', 'beautifully', 'beauty', 'became', 'because', 'become', 'becomes', 'becoming', 'bed', 'bedded', 'beefy', 'been', 'beet', 'beetroot', 'befits', 'before', 'began', 'begin', 'beginning', 'beginnings', 'begins', 'begs', 'begun', 'behind', 'being', 'beira', 'beiras', 'belgian', 'belie', 'belied', 'belief', 'belies', 'believed', 'believes', 'bell', 'below', 'bench', 'benchmark', 'bend', 'beneath', 'beneefits', 'benefit', 'benefited', 'benefiting', 'benefits', 'bergqvist', 'bergqvists', 'bernardo', 'berries', 'berry', 'beside', 'besides', 'best', 'bestow', 'bestows', 'better', 'between', 'beyond', 'bical', 'bierzo', 'big', 'bigger', 'bigode', 'bill', 'billing', 'bin', 'biodynamic', 'birchbeer', 'bird', 'birds', 'birth', 'birthday', 'birthplace', 'bistro', 'bit', 'bite', 'biting', 'bitter', 'bitterness', 'bitters', 'bizarre', 'black', 'blackberries', 'blackberry', 'blackcurrant', 'blackcurrent', 'blackness', 'blanc', 'bland', 'blast', 'blazing', 'blend', 'blended', 'blender', 'blending', 'blends', 'block', 'blockbuster', 'blockbusters', 'blockier', 'blooms', 'blossom', 'blossoms', 'blow', 'blowing', 'blown', 'blows', 'blue', 'blueberries', 'blueberry', 'boa', 'boast', 'boasting', 'boasts', 'boats', 'boavista', 'bode', 'bodega', 'bodied', 'bodiedm', 'body', 'boiled', 'bois', 'boisterous', 'bojador', 'bold', 'boldly', 'boldness', 'bolstered', 'bom', 'bomb', 'bombshell', 'bomfim', 'bone', 'bones', 'bons', 'bonus', 'boost', 'boosted', 'boosts', 'borba', 'bordeaux', 'border', 'bordering', 'borges', 'boring', 'born', 'boston', 'both', 'bother', 'botrytis', 'botrytised', 'bottle', 'bottled', 'bottles', 'bottling', 'bottlings', 'bouchard', 'bouche', 'bought', 'boulder', 'bounces', 'bouncy', 'bound', 'boundaries', 'bouquet', 'bouschet', 'box', 'boysenberry', 'bracing', 'bracketed', 'bracketing', 'braga', 'bragança', 'braised', 'bramble', 'brambly', 'branch', 'branched', 'branching', 'branco', 'brand', 'branded', 'branding', 'brands', 'brandy', 'brash', 'brawny', 'brazen', 'brazil', 'bread', 'breadth', 'bready', 'break', 'breaking', 'breaks', 'breath', 'breathe', 'breathing', 'breezes', 'breezy', 'briary', 'brick', 'bricking', 'bridge', 'brief', 'bright', 'brighten', 'brightened', 'brightening', 'brightens', 'brighter', 'brightest', 'brightly', 'brightness', 'brilliant', 'brilliantly', 'brimming', 'brims', 'bring', 'bringing', 'brings', 'briny', 'brinyness', 'brisk', 'british', 'broad', 'broadbent', 'broaden', 'broadened', 'broadening', 'broadens', 'broadly', 'brooding', 'brother', 'brothers', 'brought', 'brown', 'bruiser', 'bruising', 'bruno', 'brush', 'brushed', 'brushes', 'brut', 'brute', 'bruto', 'brûlée', 'bual', 'bubbles', 'bubbling', 'bubbly', 'bucelas', 'bucellas', 'buffered', 'build', 'building', 'buildings', 'built', 'bulas', 'bumps', 'bunches', 'buoyant', 'burgers', 'burgundian', 'burgundy', 'buried', 'burly', 'burmester', 'burn', 'burned', 'burning', 'burnished', 'burnt', 'burried', 'burst', 'bursting', 'bursts', 'bush', 'but', 'butter', 'butterscotch', 'buttery', 'button', 'buttressed', 'buy', 'buying', 'buçaco', 'by', 'ca', 'cab', 'cabaços', 'cabernet', 'cabriz', 'cabvernet', 'cachão', 'cadaval', 'café', 'caged', 'cake', 'cal', 'calada', 'caladoc', 'calcário', 'calendar', 'california', 'call', 'callabriga', 'callado', 'called', 'calls', 'calm', 'calmed', 'calming', 'calçada', 'camarate', 'cambres', 'came', 'campolargo', 'can', 'canais', 'candeeira', 'candidate', 'candied', 'candies', 'candles', 'candy', 'canned', 'cantaloup', 'cantaloupe', 'canto', 'cap', 'capable', 'capacity', 'cape', 'capela', 'capital', 'captain', 'capture', 'captured', 'captures', 'caradoc', 'caramel', 'caramelized', 'caramelly', 'cardboard', 'cardo', 'carefully', 'caress', 'caresses', 'carla', 'carlos', 'carmo', 'carpathian', 'carried', 'carries', 'carry', 'carrying', 'cartuxa', 'carvalhais', 'carvalhas', 'casa', 'casal', 'case', 'cask', 'casks', 'cassis', 'castas', 'castello', 'castelâo', 'castelão', 'casteão', 'castle', 'castro', 'casual', 'catapereiro', 'catarina', 'categories', 'category', 'caterina', 'cathedral', 'catherine', 'catholic', 'catty', 'caught', 'cavalcade', 'cavalry', 'caves', 'cazes', 'cedar', 'cedary', 'celebrate', 'celebrates', 'celebrating', 'celebration', 'celebratory', 'celery', 'cellar', 'cellared', 'cellaring', 'cellars', 'cements', 'center', 'centered', 'central', 'centuries', 'century', 'cerceal', 'cercial', 'certain', 'certainly', 'ch', 'chalk', 'chalky', 'chameleon', 'chaminé', 'champagne', 'chance', 'change', 'changed', 'changing', 'chapel', 'chapoutier', 'character', 'characteristic', 'characteristics', 'characterize', 'characterized', 'characterizes', 'characters', 'charcter', 'chardonnay', 'charge', 'charity', 'charles', 'charleston', 'charm', 'charming', 'charms', 'charred', 'chatonnet', 'chavez', 'check', 'cheese', 'cheeses', 'chemical', 'chenin', 'cherries', 'cherry', 'chestnut', 'chewy', 'chicken', 'chill', 'chilled', 'chilling', 'chilly', 'chime', 'chimneys', 'chimnies', 'chive', 'chlorophyllic', 'chocapalha', 'chock', 'chocoate', 'chocolate', 'chocolaty', 'choice', 'chosen', 'christian', 'christmas', 'chryseia', 'chunky', 'churches', 'churchill', 'château', 'cicadas', 'ciconia', 'cigar', 'cigarra', 'cilantro', 'cima', 'cinnamon', 'cistus', 'citric', 'citrus', 'citrusy', 'city', 'claimed', 'claims', 'clamoring', 'clash', 'class', 'classic', 'classically', 'classifications', 'classified', 'classy', 'clay', 'clean', 'cleaner', 'cleanly', 'clear', 'clearly', 'clementine', 'clever', 'cliffs', 'climate', 'climates', 'close', 'closed', 'closeness', 'closer', 'closest', 'clothed', 'clove', 'clover', 'cloying', 'cloyingly', 'club', 'clumsy', 'co', 'co2', 'coarse', 'coast', 'coastal', 'coat', 'coating', 'coats', 'cockburn', 'cocktail', 'cocktails', 'cocoa', 'code', 'codega', 'coffee', 'cohesion', 'coiled', 'cola', 'colares', 'cold', 'colheita', 'colheitas', 'collected', 'collection', 'colonies', 'color', 'colored', 'coloring', 'colors', 'colourless', 'combination', 'combinations', 'combine', 'combined', 'combines', 'combining', 'come', 'comes', 'comfort', 'comfortable', 'comfortably', 'coming', 'commands', 'commemorate', 'commemorated', 'commemoration', 'commercialized', 'common', 'commonly', 'compact', 'compacted', 'companhia', 'companies', 'companion', 'companions', 'company', 'comparable', 'comparative', 'comparatively', 'compared', 'comparison', 'compelling', 'compensate', 'compensating', 'compensation', 'compete', 'complement', 'complementary', 'complemented', 'complementing', 'complements', 'complete', 'completely', 'completes', 'complex', 'complexities', 'complexity', 'complications', 'component', 'components', 'comporta', 'composed', 'comprises', 'compromise', 'comète', 'conceito', 'concentrate', 'concentrated', 'concentrates', 'concentrating', 'concentration', 'concerned', 'concession', 'concessions', 'concocted', 'concoction', 'condensed', 'conditions', 'confected', 'confirm', 'confirmed', 'confirms', 'conflict', 'conflicting', 'confusion', 'conjures', 'connection', 'connections', 'consensus', 'consequence', 'consider', 'considerable', 'considered', 'considering', 'consistency', 'consistent', 'consistently', 'constant', 'constructed', 'consultant', 'consume', 'consumed', 'consumers', 'consumption', 'contact', 'contained', 'containing', 'contains', 'contemplation', 'contends', 'content', 'contents', 'context', 'continual', 'continue', 'continues', 'continuing', 'contrast', 'contrasted', 'contrasting', 'contrasts', 'contribute', 'contributed', 'contributes', 'contributing', 'contribution', 'control', 'controlled', 'controlling', 'convent', 'conventional', 'convento', 'conversation', 'convey', 'conveying', 'conveys', 'convincing', 'cooked', 'cookies', 'cool', 'cooler', 'coolest', 'coolness', 'cooperative', 'cooperatives', 'cope', 'cordial', 'core', 'coreto', 'corgo', 'cork', 'corner', 'corners', 'cornucopia', 'correct', 'correia', 'correio', 'corte', 'cortes', 'cortezia', 'costa', 'cotton', 'coudel', 'cough', 'could', 'count', 'counter', 'counteracts', 'counterbalance', 'counterbalanced', 'counterparts', 'counterpoint', 'counterweight', 'countess', 'country', 'couple', 'coupled', 'course', 'cousin', 'cova', 'cover', 'covered', 'covers', 'crafted', 'craggy', 'cranberries', 'cranberry', 'cranberryish', 'cranes', 'crasto', 'crate', 'cream', 'creamed', 'creamier', 'creamily', 'creaminess', 'creamy', 'create', 'created', 'creates', 'creating', 'creation', 'creator', 'creeping', 'creeps', 'crescendo', 'cricket', 'crickets', 'cries', 'crisp', 'crispened', 'crispens', 'crisper', 'crispest', 'crisply', 'crispness', 'crispy', 'cristiano', 'croft', 'crooked', 'crop', 'cross', 'crossed', 'crows', 'cru', 'crunchy', 'crushed', 'crust', 'cry', 'crystallized', 'crème', 'culled', 'cult', 'culture', 'cunha', 'curd', 'cured', 'curiosity', 'curious', 'curiously', 'curling', 'currant', 'currants', 'current', 'currently', 'currents', 'cushion', 'cushioned', 'cushioning', 'cushions', 'cushiony', 'cusp', 'cut', 'cuts', 'cutting', 'cuvées', 'cycle', 'cypress', 'càlem', 'cálem', 'cátedra', 'cão', 'códega', 'côa', 'côrte', 'côtes', 'da', 'dalva', 'dame', 'damp', 'dampened', 'damson', 'damsons', 'dance', 'dances', 'dancing', 'danish', 'dao', 'dark', 'darkened', 'darker', 'darkest', 'darkly', 'darkness', 'das', 'dash', 'date', 'dated', 'dates', 'dating', 'daughter', 'david', 'day', 'dayglo', 'days', 'de', 'deal', 'decade', 'decades', 'decant', 'decanted', 'decanter', 'decanting', 'decay', 'decent', 'deceptive', 'deceptively', 'decided', 'decidedly', 'decision', 'declaration', 'declared', 'decorate', 'dedicated', 'deemed', 'deep', 'deepened', 'deeper', 'deepest', 'deeply', 'defiantly', 'defined', 'definite', 'definitely', 'definition', 'deftly', 'degree', 'del', 'delaforce', 'delectable', 'deliberately', 'delicate', 'delicately', 'delicious', 'deliciously', 'deliciousness', 'delight', 'delightful', 'delights', 'delineate', 'deliver', 'delivers', 'delve', 'delves', 'demand', 'demanding', 'demands', 'demarcated', 'demeanor', 'demerara', 'demonstrating', 'denmark', 'denomination', 'dense', 'densely', 'denser', 'density', 'denying', 'department', 'depth', 'derived', 'derives', 'descendant', 'descendants', 'describe', 'described', 'descriptor', 'deservedly', 'deserves', 'designation', 'designed', 'despite', 'dessert', 'destemming', 'destination', 'destined', 'details', 'determined', 'determinedly', 'detract', 'detracts', 'deutsch', 'develop', 'develope', 'developed', 'developing', 'development', 'develops', 'dfj', 'did', 'difference', 'differences', 'different', 'difficult', 'dill', 'dilute', 'diluted', 'dimension', 'dimensional', 'dimensions', 'diminish', 'diminishes', 'diminishing', 'diogo', 'direct', 'direction', 'directness', 'director', 'dirk', 'dirt', 'dirty', 'disappear', 'disappeared', 'disappoint', 'disappointing', 'disappointment', 'disappoints', 'disaster', 'discovered', 'discovery', 'discreet', 'disgorged', 'dish', 'dishes', 'disjointed', 'disparate', 'dispelled', 'displayed', 'displaying', 'displays', 'disproved', 'dissipate', 'distillation', 'distinct', 'distinction', 'distinctive', 'distinctly', 'distinguish', 'distinguished', 'distracting', 'district', 'disturbances', 'disturbed', 'divides', 'dj', 'dna', 'do', 'dodgy', 'doe', 'does', 'doesn', 'dog', 'doh', 'dom', 'dominance', 'dominant', 'dominat', 'dominate', 'dominated', 'dominates', 'dominating', 'domingos', 'don', 'dona', 'done', 'donkey', 'doorway', 'dos', 'dosage', 'dose', 'doubt', 'doubting', 'doubts', 'douro', 'dovecote', 'dow', 'down', 'downriver', 'downside', 'doña', 'dramatic', 'dramatically', 'draw', 'drawing', 'drawings', 'drawn', 'dreamy', 'drenched', 'dressed', 'dreyfus', 'dried', 'drier', 'driest', 'drily', 'drink', 'drinkability', 'drinkable', 'drinkble', 'drinkers', 'drinking', 'drive', 'driven', 'driving', 'drizzled', 'drop', 'drops', 'drunk', 'dry', 'drying', 'dryly', 'dryness', 'du', 'duarte', 'duas', 'duck', 'due', 'duero', 'duet', 'dull', 'dulled', 'duller', 'dumpy', 'duo', 'duorum', 'duriense', 'during', 'dust', 'dusted', 'dusty', 'dutch', 'dwarfed', 'dynamite', 'dâo', 'dão', 'ea', 'each', 'earlier', 'earliest', 'early', 'earns', 'earth', 'earthbound', 'earthenware', 'earthiness', 'earthly', 'earthy', 'ease', 'easily', 'east', 'eastern', 'easternmost', 'easy', 'easygoing', 'eat', 'eaten', 'eaters', 'ebullient', 'eccentric', 'echo', 'echoed', 'echoes', 'eclectic', 'ecological', 'edge', 'edged', 'edges', 'edginess', 'edging', 'edgy', 'edifice', 'edition', 'edmar', 'edward', 'effect', 'effective', 'effectively', 'effects', 'effervescent', 'effort', 'effortlessly', 'effusive', 'eiffel', 'eight', 'eighteen', 'either', 'electric', 'elegance', 'elegant', 'elegantly', 'element', 'elemental', 'elements', 'elephants', 'elevated', 'elevates', 'elevation', 'elizabeth', 'else', 'elsewhere', 'elusive', 'embedded', 'emblematic', 'embraced', 'embracing', 'emelinda', 'emerge', 'emerged', 'emerges', 'eminently', 'emollient', 'emphasis', 'emphasize', 'emphasized', 'emphasizes', 'emphasizing', 'enable', 'enabled', 'encapsulated', 'encapsulates', 'encased', 'enclave', 'enclosed', 'encompasses', 'encontro', 'encourages', 'encruzado', 'end', 'endangered', 'ended', 'ending', 'endowed', 'ends', 'energy', 'england', 'english', 'englishman', 'engulfed', 'enhance', 'enhanced', 'enhances', 'enhancing', 'enjoy', 'enjoyable', 'enjoyably', 'enjoyed', 'enjoying', 'enjoyment', 'enjoys', 'enlarge', 'enlivened', 'enlivening', 'enlivens', 'enmeshed', 'enormous', 'enormously', 'enough', 'ensemble', 'enticing', 'enticingly', 'entirely', 'entrance', 'entrant', 'entries', 'entry', 'envelop', 'envelope', 'enveloped', 'enveloping', 'envelops', 'environmental', 'epitome', 'epitomizes', 'equal', 'equalled', 'equally', 'equestrian', 'equivalent', 'ermelinda', 'err', 'erring', 'ervamoira', 'escape', 'escapes', 'escolha', 'esoteric', 'espadeiro', 'especially', 'espirito', 'esporão', 'espoão', 'espresso', 'essence', 'essential', 'essentially', 'established', 'establishment', 'estanho', 'estate', 'estates', 'estimated', 'estrela', 'estrella', 'estremadura', 'estremoz', 'estuary', 'etched', 'ethereal', 'eucalyptus', 'eufemia', 'eugénio', 'europe', 'european', 'evaton', 'even', 'evening', 'event', 'events', 'eventually', 'ever', 'every', 'everyday', 'everyone', 'everything', 'everywhere', 'evidence', 'evidenced', 'evident', 'evoke', 'evokes', 'evoking', 'evolution', 'evolve', 'evolving', 'evora', 'exactly', 'exaggerated', 'example', 'examples', 'exceedingly', 'excellent', 'excellently', 'except', 'exception', 'exceptional', 'excess', 'excessive', 'excessively', 'exciting', 'exclamation', 'exclusively', 'exemplary', 'exercise', 'exhibit', 'exhibiting', 'exhibits', 'existed', 'existence', 'exotic', 'expanded', 'expanding', 'expansive', 'expect', 'expectations', 'expected', 'expense', 'experience', 'experiences', 'experts', 'explains', 'explodes', 'exploiting', 'explosion', 'explosive', 'explosively', 'exported', 'exposition', 'exposure', 'express', 'expressed', 'expresses', 'expressing', 'expression', 'expressions', 'expressive', 'exquisite', 'extend', 'extended', 'extension', 'extensive', 'exterior', 'extra', 'extract', 'extracted', 'extraction', 'extracts', 'extravagance', 'extravagant', 'extravagantly', 'extreme', 'extremely', 'extremes', 'extremity', 'exuberance', 'exuberant', 'exuberantly', 'exude', 'exudes', 'exuding', 'eye', 'fabulous', 'face', 'faced', 'faces', 'facile', 'facing', 'fact', 'factor', 'fade', 'fades', 'fading', 'fado', 'failings', 'faint', 'faintest', 'faintly', 'fair', 'fairly', 'fairy', 'faisão', 'falcoaria', 'falcon', 'fall', 'falls', 'fame', 'famed', 'familiar', 'families', 'family', 'famous', 'fan', 'fancies', 'fancy', 'fans', 'fantastic', 'far', 'faria', 'farizoa', 'farm', 'farmed', 'farms', 'farmyard', 'farthest', 'fascinating', 'fascinatingly', 'fascist', 'fashion', 'fashionable', 'fashionably', 'fashioned', 'fast', 'fat', 'father', 'fattened', 'fatty', 'fault', 'favaios', 'favor', 'favorite', 'favors', 'façade', 'faísca', 'feather', 'feathered', 'featherlight', 'feathers', 'feature', 'features', 'featuring', 'fed', 'feed', 'feel', 'feeling', 'feels', 'feet', 'feist', 'felt', 'fennel', 'ferment', 'fermentation', 'fermented', 'fermenters', 'fermenting', 'fernando', 'fernão', 'ferreira', 'ferreirinha', 'fertile', 'festivals', 'few', 'fickle', 'fiddle', 'field', 'fierce', 'fiery', 'fig', 'fights', 'figs', 'figuiera', 'figure', 'filipa', 'fill', 'filled', 'filling', 'fills', 'filtered', 'filtering', 'fina', 'final', 'finally', 'find', 'finding', 'fine', 'finely', 'finer', 'finesse', 'finest', 'finish', 'finished', 'finishes', 'finishing', 'fino', 'firm', 'firmed', 'firmer', 'firmest', 'firming', 'firmly', 'firmness', 'first', 'fish', 'fist', 'fit', 'fits', 'fitting', 'five', 'fizz', 'fizzy', 'flabbiness', 'fladgate', 'flagship', 'flamboyant', 'flanked', 'flashes', 'flashing', 'flat', 'flatter', 'flavor', 'flavored', 'flavorful', 'flavors', 'flavorsome', 'flaw', 'flecks', 'flesh', 'fleshed', 'fleshy', 'flexible', 'flint', 'flinty', 'float', 'floating', 'floats', 'floor', 'floral', 'flourish', 'flourishes', 'flower', 'flowers', 'flowery', 'flowing', 'flows', 'flush', 'flushed', 'fly', 'foamy', 'focus', 'focused', 'focuses', 'focusing', 'fogs', 'foie', 'foil', 'foiled', 'fold', 'folded', 'folds', 'folk', 'follies', 'follow', 'followed', 'following', 'follows', 'folly', 'fonseca', 'fonte', 'food', 'foods', 'foot', 'foothills', 'for', 'foray', 'force', 'forceful', 'forces', 'fore', 'foreground', 'forest', 'forested', 'forests', 'forever', 'forewarned', 'forge', 'forget', 'forgoing', 'forgotten', 'form', 'formation', 'former', 'formerly', 'formidable', 'forming', 'forms', 'formula', 'forrester', 'forth', 'fortified', 'fortify', 'fortifying', 'forward', 'fossil', 'fossilized', 'fossils', 'fought', 'found', 'foundation', 'founded', 'founder', 'four', 'foursquare', 'fourteen', 'fourth', 'foward', 'foz', 'fraction', 'fragrance', 'fragrances', 'fragrant', 'fragrantly', 'frame', 'framed', 'frames', 'framework', 'franca', 'france', 'francesca', 'francisca', 'francisco', 'franco', 'freitas', 'french', 'frenchman', 'fresh', 'freshen', 'freshened', 'freshener', 'freshening', 'freshens', 'fresher', 'freshest', 'freshly', 'freshness', 'frest', 'friendly', 'fringed', 'frio', 'from', 'front', 'frontal', 'fronteira', 'frontier', 'frothy', 'fruit', 'fruitcake', 'fruite', 'fruited', 'fruitier', 'fruitiness', 'fruits', 'fruity', 'fudge', 'ful', 'fulfill', 'fulfilled', 'full', 'fuller', 'fullness', 'fully', 'fun', 'funky', 'further', 'furthest', 'future', 'gaia', 'gain', 'gained', 'gaining', 'gains', 'gaivosa', 'galego', 'galicia', 'galileo', 'gallego', 'gama', 'game', 'gandia', 'garcia', 'garden', 'garrafeira', 'garrida', 'gas', 'gathered', 'gatherings', 'gave', 'gen', 'general', 'generally', 'generation', 'generations', 'generosity', 'generous', 'generously', 'gentle', 'gentler', 'gently', 'genuine', 'genuinely', 'geranium', 'germanic', 'get', 'gets', 'getting', 'gewurztraminer', 'gewürztraminer', 'giant', 'gin', 'ginger', 'gingery', 'give', 'giveaway', 'given', 'gives', 'giving', 'glass', 'glides', 'gliding', 'glimpse', 'glimpses', 'glint', 'global', 'gloria', 'gloriously', 'glory', 'glossy', 'glove', 'glow', 'glowing', 'glue', 'go', 'godello', 'goes', 'going', 'gold', 'golden', 'goldhued', 'gomes', 'gone', 'good', 'goodly', 'gooseberry', 'gorgeous', 'gorgeously', 'got', 'gotten', 'gouveio', 'gouvelo', 'government', 'grace', 'gracefully', 'graciano', 'gradil', 'gradually', 'graham', 'grain', 'grainy', 'grand', 'grande', 'grandest', 'grandeur', 'grandfather', 'grandiose', 'grandkids', 'grandpa', 'grandson', 'granite', 'granitic', 'grant', 'granular', 'grape', 'grapefruit', 'grapefruits', 'grapes', 'grapevines', 'grapey', 'graphite', 'grapy', 'gras', 'grass', 'grassy', 'grated', 'gravel', 'gravitas', 'gravity', 'gravy', 'graúdo', 'great', 'greater', 'greatest', 'greatness', 'green', 'greener', 'greenish', 'greenness', 'greeting', 'grenache', 'grew', 'grey', 'gricha', 'grilled', 'grilling', 'grilos', 'grip', 'gritty', 'grocery', 'gros', 'grossly', 'ground', 'grounded', 'grounds', 'group', 'grouping', 'grous', 'grow', 'grower', 'growers', 'growing', 'grown', 'grows', 'guaranteed', 'guarda', 'guardian', 'guarding', 'guava', 'guedes', 'guessing', 'guimaraens', 'guises', 'gum', 'guns', 'guru', 'had', 'hailing', 'hails', 'half', 'halfway', 'hallmark', 'hallmarks', 'halt', 'halves', 'ham', 'hand', 'handed', 'handful', 'handle', 'handled', 'hands', 'hang', 'hanging', 'hangs', 'hans', 'happen', 'happened', 'happier', 'happily', 'happy', 'hard', 'hardened', 'harder', 'hardly', 'hardy', 'harks', 'harmonious', 'harmoniously', 'harmonize', 'harmonizing', 'harmony', 'harnessed', 'harsh', 'harshness', 'harvest', 'harvested', 'harvests', 'has', 'hasn', 'haul', 'have', 'haven', 'having', 'hay', 'hazelnut', 'he', 'head', 'headed', 'heading', 'headquartered', 'headquarters', 'heads', 'heady', 'healthy', 'heard', 'heart', 'hearted', 'heartland', 'hearty', 'heat', 'heatwave', 'heavily', 'heavy', 'heavyweight', 'hedgerow', 'hedonistic', 'heft', 'height', 'heightening', 'heights', 'held', 'help', 'helped', 'helping', 'helps', 'hence', 'her', 'herb', 'herbaceous', 'herbaceousness', 'herbal', 'herbs', 'herdade', 'here', 'heredias', 'hershey', 'hewn', 'hgc', 'hidden', 'hide', 'hides', 'hiding', 'high', 'higher', 'highest', 'highlight', 'highlighted', 'highlighting', 'highlights', 'highly', 'hike', 'hill', 'hills', 'hillside', 'hilltop', 'himself', 'hindering', 'hint', 'hinterland', 'hinting', 'hints', 'hip', 'hips', 'his', 'historic', 'historical', 'historically', 'history', 'hits', 'hog', 'hold', 'holding', 'holds', 'hole', 'holiday', 'hollow', 'homage', 'home', 'homeland', 'homenagem', 'homer', 'homogenous', 'hones', 'honey', 'honeyed', 'honeysuckle', 'honor', 'honored', 'honoring', 'honors', 'hope', 'hopefully', 'horse', 'horseshoe', 'hot', 'hotel', 'hotels', 'hottest', 'hour', 'hours', 'house', 'housed', 'houses', 'housing', 'hovering', 'how', 'however', 'hue', 'hued', 'huge', 'hugely', 'hugo', 'hugues', 'hulking', 'hung', 'hunting', 'hurt', 'husband', 'hybrid', 'ice', 'icon', 'iconic', 'idea', 'ideal', 'ideally', 'ideas', 'identified', 'identify', 'identity', 'idiosyncratic', 'if', 'ignored', 'ii', 'ikon', 'images', 'imagination', 'imbalance', 'imbued', 'immediate', 'immediately', 'immense', 'immensely', 'impact', 'impart', 'imparted', 'imparts', 'impeccable', 'impenetrable', 'implies', 'importance', 'important', 'imported', 'importer', 'importers', 'imports', 'imposing', 'impossible', 'impress', 'impresses', 'impression', 'impressive', 'impressively', 'improve', 'improvements', 'in', 'inbetween', 'inc', 'incarnation', 'include', 'includes', 'including', 'inclusion', 'incorporates', 'increasing', 'increasingly', 'incredible', 'incredibly', 'indeed', 'independent', 'independently', 'indicate', 'indicated', 'indicates', 'indication', 'indies', 'indigenous', 'indistinct', 'individual', 'individualistic', 'indulgence', 'indulgent', 'ineffable', 'inevitable', 'inevitably', 'inexpensive', 'influence', 'influenced', 'infused', 'ingredient', 'ingredients', 'inhabited', 'inherent', 'inhibit', 'inimitable', 'initial', 'initially', 'initials', 'ink', 'inky', 'inland', 'inner', 'innocuous', 'inside', 'inspiration', 'inspired', 'instant', 'instantly', 'instead', 'instrument', 'intact', 'integral', 'integrate', 'integrated', 'integrates', 'integrating', 'integration', 'integreated', 'intended', 'intense', 'intensely', 'intensity', 'intent', 'intentionally', 'intentions', 'intently', 'interest', 'interesting', 'interestingly', 'interests', 'interior', 'intermingle', 'internal', 'international', 'internationally', 'interpetation', 'interplay', 'interpretation', 'interspersed', 'intertwined', 'intertwining', 'interweave', 'interwoven', 'into', 'intriguing', 'intriguingly', 'introduce', 'introduced', 'introduces', 'introducing', 'introductory', 'intrude', 'intruding', 'intrusive', 'invigorating', 'inviting', 'involved', 'involvement', 'irresistible', 'irreverent', 'is', 'isidro', 'islands', 'isn', 'issue', 'it', 'italian', 'its', 'itself', 'ity', 'ivery', 'jack', 'jacques', 'jaen', 'jalapeños', 'jam', 'jamminess', 'jammy', 'jampal', 'january', 'jars', 'jasmine', 'jaune', 'jaén', 'jean', 'jellied', 'jelly', 'job', 'john', 'join', 'joined', 'joins', 'joint', 'jointly', 'jolt', 'jordões', 'jorge', 'jorgensen', 'josé', 'journey', 'joão', 'judge', 'judged', 'judicious', 'juice', 'juiced', 'juicier', 'juiciest', 'juicily', 'juiciness', 'juicy', 'julian', 'jumbleberry', 'jumps', 'june', 'junior', 'jura', 'jurisdiction', 'just', 'justice', 'justified', 'justifies', 'juxtaposed', 'kacher', 'kaleidoscope', 'keep', 'keeping', 'keeps', 'kept', 'kerosene', 'key', 'keys', 'kick', 'kicks', 'kilter', 'kind', 'king', 'kingfisher', 'kings', 'kiwi', 'knife', 'knights', 'knockout', 'know', 'known', 'kobrand', 'kopke', 'kristian', 'krohn', 'kumquat', 'la', 'lab', 'label', 'labeled', 'labels', 'labrador', 'lace', 'laced', 'laces', 'lacing', 'lack', 'lacking', 'lacks', 'lacy', 'laden', 'lafite', 'lagar', 'lagares', 'lagars', 'lagers', 'lagging', 'lagoalva', 'lagosta', 'laid', 'lait', 'lancers', 'land', 'landing', 'landmark', 'lands', 'landscape', 'langdon', 'lança', 'lapa', 'large', 'largely', 'larger', 'largest', 'larinho', 'lashings', 'last', 'lasting', 'lasts', 'late', 'later', 'latest', 'latin', 'latter', 'launch', 'launched', 'laurel', 'lavender', 'lay', 'layer', 'layerd', 'layered', 'layering', 'layers', 'laying', 'lbv', 'lbvs', 'lead', 'leading', 'leads', 'leaf', 'leak', 'lean', 'leaner', 'leanness', 'leans', 'leap', 'leaping', 'leaps', 'lease', 'least', 'leather', 'leathery', 'leave', 'leavened', 'leaves', 'leaving', 'leda', 'ledger', 'lees', 'left', 'leg', 'legacy', 'legend', 'legendary', 'legged', 'legume', 'lemon', 'lemongrass', 'lemons', 'lemony', 'lend', 'lended', 'lending', 'lends', 'lener', 'length', 'leonor', 'less', 'lessen', 'lessens', 'lesser', 'let', 'letdown', 'lets', 'letter', 'level', 'levels', 'lexicon', 'lezirias', 'liberation', 'license', 'licorice', 'lid', 'lie', 'lies', 'life', 'lifestyle', 'lift', 'lifted', 'lifter', 'lifting', 'lifts', 'light', 'lighted', 'lighten', 'lightened', 'lightens', 'lighter', 'lightest', 'lightly', 'lightness', 'lights', 'lightweight', 'like', 'likely', 'likes', 'lilt', 'lilting', 'lima', 'lime', 'limestone', 'limit', 'limited', 'limits', 'limpid', 'line', 'linear', 'lined', 'lines', 'linger', 'lingering', 'lingers', 'lining', 'link', 'linked', 'lip', 'liqueur', 'liquid', 'liquor', 'liquorice', 'liquorous', 'liquors', 'lisboa', 'lisbon', 'lit', 'literal', 'literally', 'literary', 'little', 'live', 'lived', 'liveliness', 'lively', 'livened', 'livens', 'lives', 'llc', 'loaded', 'loads', 'loamy', 'lobos', 'lobster', 'local', 'locally', 'locals', 'located', 'location', 'lofty', 'loganberries', 'loganberry', 'logical', 'loios', 'long', 'longer', 'longest', 'longevity', 'longing', 'longterm', 'look', 'lookalike', 'looking', 'looks', 'lopes', 'loridos', 'lose', 'loses', 'losing', 'lost', 'lot', 'lots', 'loureiro', 'louriero', 'lousada', 'love', 'lovely', 'lover', 'lovers', 'loving', 'low', 'lower', 'ltd', 'lucas', 'luckily', 'luis', 'luiz', 'lunar', 'lungs', 'lurton', 'luscious', 'lusciously', 'lush', 'lushly', 'lushness', 'luxurious', 'luxury', 'luís', 'lychee', 'lychees', 'lying', 'lynch', 'lzesty', 'made', 'madeira', 'madeiras', 'magic', 'magisterially', 'magnificent', 'magnificently', 'magnums', 'main', 'mainland', 'mainly', 'maintaing', 'maintaining', 'maintains', 'major', 'make', 'makes', 'making', 'malbec', 'malhadinha', 'malmsey', 'malolactic', 'malvasia', 'malvedos', 'man', 'manage', 'managed', 'management', 'manages', 'manca', 'mandarin', 'mango', 'mangos', 'manifest', 'manifestation', 'manifested', 'mannered', 'manoella', 'many', 'manzwine', 'maple', 'mar', 'marble', 'march', 'marco', 'maria', 'mariners', 'mario', 'maritime', 'mark', 'marked', 'markers', 'market', 'marketing', 'marks', 'marmalade', 'marques', 'marquesa', 'marquês', 'marred', 'marriage', 'married', 'marries', 'marry', 'marrying', 'mars', 'marsanne', 'martinez', 'martinho', 'marvelous', 'marzipan', 'mask', 'masked', 'masking', 'masks', 'masses', 'massive', 'master', 'match', 'matched', 'matches', 'matchstick', 'mateus', 'matriarch', 'matter', 'maturation', 'mature', 'matured', 'matures', 'maturing', 'maturity', 'maturité', 'may', 'maybe', 'mayor', 'maçanita', 'me', 'meal', 'meals', 'mean', 'meander', 'meandro', 'meaning', 'means', 'meant', 'meantime', 'measure', 'meat', 'meatiness', 'meats', 'meaty', 'medicinal', 'medieval', 'meditation', 'medium', 'medley', 'meets', 'meia', 'meld', 'melded', 'melding', 'melds', 'melgaço', 'mellifluous', 'mellifluously', 'mello', 'mellow', 'mellowed', 'melon', 'melt', 'melting', 'member', 'members', 'memorable', 'memories', 'memory', 'mencia', 'mencía', 'mendes', 'mendiz', 'menezes', 'merciless', 'mere', 'merely', 'merest', 'merge', 'merged', 'merges', 'merging', 'meringue', 'merits', 'merlot', 'meshed', 'meshes', 'messias', 'messing', 'metallic', 'metamorphosis', 'method', 'meão', 'michael', 'mid', 'middle', 'midpalate', 'midpalates', 'might', 'migrated', 'miguel', 'mild', 'mildly', 'mile', 'miles', 'milk', 'mill', 'millennial', 'million', 'mind', 'mineral', 'minerality', 'mineralitym', 'minerally', 'minerals', 'mingle', 'mingled', 'mingles', 'minhao', 'minho', 'minimal', 'minimum', 'mining', 'mint', 'minty', 'mira', 'miss', 'missed', 'misses', 'missing', 'mistress', 'mitigated', 'mix', 'mixed', 'mixer', 'mixes', 'mixing', 'miúda', 'ml', 'model', 'moderate', 'modern', 'modest', 'modestly', 'modicum', 'modified', 'molasses', 'mold', 'mole', 'moment', 'monastery', 'moncão', 'mondego', 'moniker', 'moniz', 'monks', 'mono', 'monsaraz', 'monsão', 'monte', 'monteiro', 'montenegro', 'montes', 'month', 'months', 'monument', 'monçao', 'monção', 'moon', 'mor', 'more', 'moreira', 'moreiro', 'morello', 'moreto', 'morning', 'morphing', 'moscatel', 'moscatels', 'moscato', 'moss', 'most', 'mostly', 'mother', 'motor', 'mouchão', 'mountain', 'mountainous', 'mountains', 'mousse', 'mouth', 'mouthcoating', 'mouthfeel', 'mouthfilling', 'mouthful', 'mouthwatering', 'move', 'moved', 'moves', 'moving', 'much', 'muddle', 'muddled', 'muddy', 'mula', 'mulberries', 'mulberry', 'mulled', 'multicastas', 'multifaceted', 'munda', 'mural', 'murcas', 'murghaneira', 'murça', 'murças', 'muscat', 'muscats', 'muscles', 'muscular', 'mushroom', 'mushrooms', 'music', 'musician', 'musk', 'must', 'mustache', 'mute', 'muted', 'muxagat', 'mystery', 'mário', 'mãe', 'médoc', 'mélange', 'nacional', 'nagging', 'nail', 'name', 'named', 'names', 'naming', 'napa', 'napoleon', 'napoleonic', 'narrow', 'nasty', 'national', 'nationwide', 'native', 'natural', 'naturally', 'nature', 'navigators', 'near', 'nearby', 'nearer', 'nearly', 'neatly', 'necessary', 'nectarine', 'nectarines', 'need', 'needed', 'needing', 'needle', 'needs', 'neglected', 'negra', 'neighboring', 'neither', 'neiva', 'nelson', 'nervous', 'nervy', 'nespereira', 'ness', 'nest', 'nested', 'nests', 'neutral', 'never', 'nevertheless', 'neves', 'new', 'newly', 'next', 'nice', 'nicely', 'nickname', 'nicolau', 'niepoort', 'night', 'nights', 'nine', 'nineteen', 'ninety', 'no', 'nobility', 'noble', 'nobleman', 'nod', 'noir', 'noirs', 'none', 'nonetheless', 'nor', 'normal', 'normally', 'north', 'northeast', 'northeastern', 'northern', 'northwest', 'nose', 'not', 'note', 'noted', 'notes', 'nothing', 'noticeable', 'noticeably', 'notoriously', 'nova', 'noval', 'now', 'nuance', 'nuances', 'number', 'numão', 'nun', 'nurtures', 'nut', 'nutmeg', 'nuts', 'nuttiness', 'nutty', 'oak', 'oaked', 'oaks', 'oaky', 'obidos', 'obtrusive', 'obvious', 'obviously', 'occasionally', 'occupies', 'occur', 'occurred', 'ocean', 'oceanic', 'october', 'odd', 'oddly', 'oenologist', 'of', 'off', 'offeing', 'offer', 'offering', 'offerings', 'offers', 'offley', 'offputting', 'offset', 'ofspice', 'often', 'oil', 'oily', 'olazabal', 'old', 'older', 'oldest', 'oldfresh', 'oldin', 'oldis', 'oldotima', 'olds', 'oldshould', 'olive', 'oliveira', 'on', 'once', 'one', 'ones', 'onion', 'only', 'onto', 'oozes', 'opaque', 'open', 'opened', 'opening', 'openly', 'openness', 'opens', 'operates', 'operations', 'oporto', 'opportunity', 'opposite', 'opulence', 'opulent', 'opulently', 'or', 'orange', 'oranges', 'orangey', 'orchard', 'ordens', 'order', 'ordinary', 'oregano', 'oreo', 'organic', 'organically', 'origin', 'original', 'originally', 'originals', 'originated', 'origins', 'oriole', 'ornate', 'os', 'oscar', 'other', 'otherwise', 'otima', 'ouro', 'out', 'outburst', 'outlast', 'outside', 'outstanding', 'ovelha', 'over', 'overall', 'overcropped', 'overextracted', 'overheated', 'overlaid', 'overlaying', 'overlooked', 'overly', 'overlying', 'overpowered', 'overpowering', 'overripe', 'oversteps', 'overtaken', 'overtly', 'overtone', 'overtones', 'overweight', 'overwhelmed', 'overwhelming', 'overwhelms', 'owl', 'own', 'owned', 'owner', 'owners', 'ownership', 'owns', 'oxidated', 'oxidation', 'oxidative', 'oxidized', 'pace', 'pack', 'package', 'packaged', 'packed', 'packing', 'packs', 'padeiro', 'padreiro', 'paean', 'paid', 'painful', 'paint', 'painting', 'pair', 'paired', 'pairing', 'pairs', 'palace', 'palate', 'pale', 'palha', 'palmela', 'palpable', 'pamela', 'panasqueira', 'pancas', 'panoply', 'panoramic', 'pape', 'paper', 'parallel', 'paralleled', 'parcel', 'parcels', 'pardusco', 'park', 'parlance', 'part', 'partial', 'partially', 'particular', 'particularly', 'parties', 'partly', 'partner', 'partnered', 'partnering', 'partners', 'partnership', 'partridge', 'parts', 'pascal', 'pass', 'passa', 'passadouro', 'passarella', 'passed', 'passes', 'passing', 'passion', 'past', 'pasta', 'pasternak', 'pastry', 'patience', 'patina', 'pato', 'patriarch', 'patrão', 'paulo', 'pause', 'paved', 'paxis', 'pay', 'pays', 'paz', 'paçao', 'paço', 'pea', 'peace', 'peach', 'peaches', 'peacock', 'peak', 'peanut', 'pear', 'pears', 'peas', 'peculiar', 'pederna', 'pedestal', 'pedigree', 'pedro', 'peel', 'pegões', 'pellada', 'penha', 'peninsula', 'pent', 'pepper', 'peppered', 'pepperiness', 'peppers', 'peppery', 'pequeño', 'percent', 'percentage', 'perceptible', 'perched', 'perdgão', 'perdigão', 'perdiz', 'perescuma', 'perfect', 'perfectly', 'performance', 'performer', 'performs', 'perfume', 'perfumed', 'perfumes', 'perhaps', 'period', 'periquita', 'perks', 'permeates', 'permitted', 'pernod', 'perrum', 'persist', 'persistent', 'personal', 'personality', 'pervades', 'perverse', 'pesqueira', 'peter', 'petillance', 'petillant', 'petit', 'petrol', 'pharmacy', 'pheasant', 'phylloxera', 'pick', 'picked', 'picking', 'picks', 'picnic', 'picture', 'pictures', 'picturesque', 'pie', 'piece', 'pierced', 'piercing', 'piercingly', 'pigs', 'pile', 'piled', 'piles', 'pillow', 'pimento', 'pinch', 'pinches', 'pine', 'pineapple', 'pineappletake', 'pingo', 'pinhao', 'pinheiro', 'pinhão', 'pink', 'pinkness', 'pinnacle', 'pinot', 'pintas', 'pinto', 'pioneer', 'pioneers', 'pipa', 'piquancy', 'piquant', 'pires', 'pisca', 'pitch', 'pith', 'pits', 'pizza', 'place', 'placed', 'places', 'plain', 'plains', 'plank', 'plant', 'planted', 'planting', 'plantings', 'plateau', 'play', 'plays', 'pleasant', 'pleasantly', 'please', 'pleasing', 'pleasingly', 'pleasurable', 'pleasurably', 'pleasure', 'plentiful', 'plenty', 'plethora', 'plum', 'plummy', 'plump', 'plumper', 'plums', 'plus', 'plush', 'pod', 'poeira', 'poems', 'poet', 'point', 'pointed', 'pointing', 'points', 'poise', 'poised', 'poking', 'polish', 'polished', 'pomar', 'pombal', 'pomegranate', 'ponte', 'poor', 'pop', 'poppy', 'popular', 'pork', 'port', 'portada', 'portal', 'portfolio', 'portion', 'porto', 'portray', 'ports', 'portugal', 'portugese', 'portugual', 'portuguese', 'porty', 'position', 'positive', 'positively', 'possessed', 'possessing', 'possibilities', 'possibility', 'possible', 'possibly', 'post', 'postman', 'pot', 'potent', 'potential', 'potentially', 'pound', 'pounding', 'pour', 'pouring', 'pousadas', 'poust', 'powder', 'power', 'powered', 'powerful', 'powerfully', 'powerhouse', 'powering', 'powers', 'poças', 'practices', 'praemium', 'praise', 'pratas', 'prats', 'pre', 'precede', 'precedes', 'precise', 'predominantly', 'predominate', 'predominately', 'predominates', 'prefer', 'preferred', 'prehistoric', 'prelude', 'premier', 'premium', 'preponderance', 'presage', 'presages', 'presence', 'present', 'presenting', 'presently', 'presents', 'preserve', 'preserved', 'preserves', 'preserving', 'presidential', 'pressing', 'presumably', 'pretensions', 'pretty', 'prevail', 'prevails', 'previous', 'price', 'priced', 'prices', 'pricey', 'pricier', 'priciest', 'prickle', 'prickling', 'prickly', 'prieur', 'primacy', 'primal', 'primarily', 'primary', 'prime', 'primeiras', 'primetime', 'princess', 'principal', 'principally', 'principle', 'prior', 'private', 'prizes', 'probably', 'problem', 'problematic', 'proceeds', 'process', 'proclaims', 'prodigious', 'produce', 'produced', 'producer', 'producers', 'produces', 'producing', 'product', 'production', 'productive', 'profile', 'profit', 'profiting', 'profoundly', 'profusion', 'program', 'progress', 'project', 'projecting', 'projects', 'prominent', 'promise', 'promised', 'promises', 'promising', 'pronged', 'pronounced', 'proof', 'propel', 'propelled', 'propels', 'proper', 'properly', 'properties', 'property', 'proportion', 'proportioned', 'proportions', 'proposition', 'protected', 'protecting', 'protest', 'proudly', 'provam', 'prove', 'proved', 'provence', 'provide', 'provided', 'provides', 'providing', 'proving', 'proximity', 'prune', 'prunes', 'pruny', 'pulled', 'pulls', 'pulsates', 'pumped', 'punch', 'punchy', 'punctuated', 'pundits', 'punt', 'purchase', 'purchased', 'pure', 'puree', 'purely', 'purest', 'purity', 'purple', 'purpose', 'purée', 'push', 'pushed', 'pushes', 'pushing', 'pushy', 'put', 'puts', 'putting', 'pégo', 'pétillant', 'pêra', 'pôpa', 'quaff', 'quaffer', 'quaffing', 'qualities', 'quality', 'quantities', 'quantity', 'quarries', 'quartetto', 'quartz', 'quay', 'queen', 'quest', 'question', 'quevedo', 'quickly', 'quince', 'quinta', 'quintas', 'quintessential', 'quite', 'rabigato', 'rabo', 'racy', 'radically', 'radish', 'raft', 'ragged', 'rainsins', 'raisin', 'raisining', 'raisins', 'raisiny', 'ramble', 'ramisco', 'ramos', 'rancio', 'random', 'range', 'ranging', 'rapid', 'rapidly', 'rapport', 'rare', 'rarely', 'rarer', 'rarest', 'rarity', 'raspberries', 'raspberry', 'rate', 'rather', 'raw', 'rawness', 'rc', 'reach', 'reaches', 'reaching', 'read', 'readier', 'reads', 'ready', 'real', 'realizing', 'really', 'reason', 'reasonable', 'reasonably', 'reassuring', 'rebel', 'recalling', 'recast', 'recent', 'recently', 'recesses', 'reckons', 'recognizable', 'recognizably', 'recognize', 'recognized', 'recognizing', 'recommended', 'record', 'recorded', 'recycle', 'red', 'redcurrant', 'redcurrants', 'rede', 'redeeming', 'redevelopment', 'redolent', 'redoma', 'redonda', 'redondo', 'reds', 'reduction', 'reductive', 'reeking', 'reference', 'referring', 'refers', 'refined', 'refinement', 'reflecting', 'reflection', 'reflects', 'refresh', 'refreshed', 'refresher', 'refreshing', 'refreshingly', 'regarded', 'regime', 'regimen', 'region', 'regional', 'regions', 'registered', 'regua', 'reguengos', 'reguinga', 'regular', 'regularly', 'regulations', 'reinforced', 'reinforces', 'reinforcing', 'rejoices', 'related', 'relative', 'relatively', 'release', 'released', 'releases', 'releasing', 'reliable', 'reliant', 'relic', 'relies', 'relishes', 'relying', 'remain', 'remaining', 'remains', 'remarkable', 'remarkably', 'remembering', 'remembrance', 'remind', 'reminder', 'reminders', 'reminds', 'reminiscence', 'reminiscent', 'remote', 'removed', 'renaissance', 'rendition', 'repay', 'repertoire', 'replaced', 'replacing', 'replicated', 'report', 'represents', 'reputation', 'requires', 'requiring', 'rescued', 'resemblance', 'resembles', 'reserva', 'reservas', 'reserve', 'reserves', 'reserving', 'residual', 'resin', 'resinous', 'resiny', 'resist', 'resolutely', 'resolving', 'responsible', 'rest', 'resting', 'restoration', 'restored', 'restrain', 'restrained', 'restraining', 'restrains', 'restraint', 'restrictive', 'result', 'resulted', 'resulting', 'results', 'retain', 'retained', 'retaining', 'retains', 'reticent', 'retiro', 'retriever', 'return', 'returning', 'reveal', 'revealed', 'revealing', 'reveals', 'revel', 'reveling', 'revels', 'revered', 'reviewed', 'reviving', 'rewards', 'reynold', 'reynolds', 'rhubarb', 'rhône', 'ria', 'ribatejo', 'ribeira', 'ribera', 'ricard', 'rich', 'richer', 'richest', 'richly', 'richness', 'ride', 'rides', 'ridge', 'ridiculously', 'riding', 'riesling', 'right', 'rightly', 'rim', 'rinds', 'ringer', 'rings', 'rio', 'rios', 'riot', 'ripanço', 'ripe', 'ripely', 'ripen', 'ripeness', 'ripening', 'riper', 'ripest', 'rises', 'risk', 'risky', 'rita', 'rival', 'river', 'rivers', 'road', 'roast', 'roasted', 'robert', 'robust', 'roca', 'rocha', 'rocim', 'rocio', 'rock', 'rocks', 'rocky', 'rods', 'roederer', 'role', 'roles', 'roll', 'rolling', 'rolls', 'roman', 'romaneira', 'romariz', 'romeira', 'room', 'root', 'rooted', 'roots', 'rootstock', 'roques', 'roquette', 'roquevale', 'roriz', 'rosa', 'rose', 'rosehip', 'rosehips', 'rosemary', 'roses', 'rosewater', 'rosé', 'rosés', 'rot', 'rotating', 'rothschild', 'rough', 'round', 'rounded', 'rounder', 'roundest', 'rounding', 'roundly', 'roundness', 'rounds', 'roupeiro', 'roupiero', 'roussanne', 'route', 'roxo', 'royal', 'rozes', 'rozès', 'roêda', 'rubber', 'ruby', 'rugged', 'rui', 'rule', 'rules', 'run', 'running', 'runs', 'rustic', 'rusticity', 'régua', 'sacrificing', 'sad', 'sadly', 'sage', 'sagrado', 'sahara', 'said', 'sailed', 'sailors', 'saint', 'saints', 'salad', 'salads', 'sale', 'saline', 'salmon', 'salted', 'saltiness', 'salty', 'same', 'sanctuary', 'sand', 'sandalwood', 'sandeman', 'sandra', 'sandy', 'santa', 'santar', 'santo', 'santos', 'sappy', 'sardines', 'satellite', 'satiny', 'satisfactorily', 'satisfying', 'satisfyingly', 'saturated', 'saturn', 'sauce', 'sauerkraut', 'sauternes', 'sauvignon', 'savage', 'save', 'saved', 'savor', 'savored', 'savoring', 'sawn', 'say', 'says', 'scaffolding', 'scantily', 'scary', 'scene', 'scent', 'scented', 'scents', 'schist', 'schistous', 'schlossadler', 'scooter', 'scorched', 'scores', 'screams', 'screw', 'screwcap', 'scrumptious', 'sculpted', 'sea', 'seafaring', 'seafood', 'seal', 'seam', 'seamen', 'seamless', 'seamlessly', 'seams', 'seara', 'search', 'searching', 'sears', 'seaside', 'seasoning', 'seaweed', 'second', 'secondary', 'secret', 'section', 'sediment', 'seductive', 'see', 'seeing', 'seeking', 'seem', 'seemed', 'seeming', 'seemingly', 'seems', 'seen', 'seeps', 'sees', 'seleccionada', 'selected', 'selection', 'selections', 'selects', 'self', 'seller', 'sellers', 'semblance', 'semi', 'semillon', 'senhora', 'sensation', 'sense', 'senses', 'sensitively', 'sequeira', 'sercial', 'serendipitously', 'series', 'serious', 'seriously', 'serodio', 'serra', 'serradayres', 'serrano', 'servas', 'serve', 'served', 'serves', 'service', 'serving', 'servite', 'seródio', 'serôdio', 'set', 'sets', 'setting', 'settle', 'settled', 'settling', 'setúbal', 'seven', 'several', 'severe', 'severely', 'severity', 'shade', 'shadings', 'shadowed', 'shaft', 'shafts', 'shame', 'shape', 'shaped', 'share', 'shares', 'sharp', 'sharpened', 'sharply', 'sharpness', 'shed', 'sheen', 'sheer', 'shelf', 'shell', 'shellfish', 'sheltered', 'shelves', 'sherbet', 'sherry', 'shimmy', 'shine', 'shines', 'shining', 'shipper', 'shippers', 'shiraz', 'shiverick', 'shock', 'shocking', 'shockingly', 'shoot', 'shooting', 'shoots', 'shop', 'shops', 'short', 'shortage', 'shortens', 'shortly', 'shot', 'shots', 'should', 'shoulder', 'shouldered', 'shouldn', 'shouted', 'shouting', 'shouts', 'shove', 'show', 'showcase', 'showcased', 'showcases', 'showcasing', 'showed', 'showing', 'shown', 'showpiece', 'showplace', 'shows', 'showy', 'shrugs', 'shy', 'siblings', 'side', 'sides', 'sideshow', 'sight', 'sign', 'signature', 'signed', 'significant', 'signifies', 'signs', 'silkier', 'silky', 'silva', 'silval', 'simaens', 'similar', 'similarities', 'similarity', 'similarly', 'simple', 'simpler', 'simplest', 'simplicity', 'simply', 'simpson', 'since', 'sinewy', 'sing', 'single', 'sink', 'sinking', 'sip', 'sipped', 'sipper', 'sipping', 'sips', 'siria', 'sister', 'sit', 'site', 'sites', 'sits', 'sitting', 'situated', 'six', 'sixty', 'siza', 'sizable', 'size', 'skillfully', 'skills', 'skin', 'skinned', 'skins', 'skurnik', 'slang', 'slapping', 'slash', 'slew', 'slice', 'sliced', 'slices', 'slicing', 'slide', 'slides', 'slight', 'slightly', 'slip', 'slopes', 'sloping', 'slow', 'slowly', 'smacking', 'small', 'smaller', 'smart', 'smattering', 'smell', 'smells', 'smidgen', 'smith', 'smoke', 'smoked', 'smokey', 'smokiness', 'smoky', 'smooth', 'smoothed', 'smoother', 'smoothes', 'smoothing', 'smoothly', 'smoothness', 'smooths', 'smother', 'smothered', 'smothers', 'so', 'soaked', 'soalheiro', 'soapy', 'soares', 'sobral', 'soda', 'soft', 'soften', 'softened', 'softening', 'softens', 'softer', 'softest', 'softly', 'softness', 'sogevinus', 'sogrape', 'soi', 'soil', 'soils', 'sold', 'solid', 'solidly', 'solista', 'solo', 'some', 'somebody', 'somehow', 'something', 'sometime', 'sometimes', 'somewhat', 'somewhere', 'sommelier', 'song', 'songs', 'sons', 'soon', 'sophisticated', 'sophistication', 'sort', 'soul', 'sound', 'sounds', 'soup', 'soupy', 'soupçon', 'sour', 'source', 'sourced', 'sous', 'sousa', 'sousão', 'south', 'southeast', 'southern', 'space', 'spacious', 'spades', 'spain', 'span', 'spanish', 'spans', 'sparked', 'sparkle', 'sparkler', 'sparkling', 'speak', 'speaks', 'special', 'specialist', 'specializes', 'specialty', 'specific', 'spectacular', 'spectacularly', 'spectrum', 'spelling', 'spend', 'spent', 'spice', 'spiced', 'spices', 'spicily', 'spiciness', 'spicing', 'spicy', 'spiked', 'spiky', 'spirit', 'spirited', 'spirits', 'spirity', 'spite', 'splashes', 'splendid', 'split', 'spoil', 'spoiled', 'spoiling', 'spoils', 'spoilt', 'spoon', 'sports', 'spot', 'spray', 'sprayed', 'spreading', 'spreads', 'sprig', 'sprightly', 'spring', 'sprinkle', 'sprinkling', 'spritz', 'spritzy', 'spumante', 'square', 'squat', 'squeeze', 'squeezed', 'st', 'stab', 'stage', 'stain', 'stainless', 'stalkiness', 'stalky', 'stand', 'standard', 'standards', 'standing', 'standout', 'standouts', 'stands', 'star', 'stargaze', 'start', 'started', 'starting', 'startling', 'starts', 'state', 'stately', 'statement', 'stature', 'stay', 'staying', 'stays', 'stead', 'steak', 'steal', 'steals', 'steamed', 'steel', 'steeliness', 'steely', 'steep', 'step', 'stern', 'stew', 'stewed', 'stews', 'stiffens', 'still', 'stinks', 'stint', 'stirred', 'stirring', 'stirrup', 'stock', 'stocks', 'stomach', 'stomped', 'stone', 'stongly', 'stony', 'stop', 'stopped', 'stopping', 'store', 'storied', 'stories', 'storks', 'story', 'straight', 'straightforward', 'strange', 'strangely', 'straw', 'strawberries', 'strawberry', 'streak', 'streaked', 'streaks', 'streets', 'strength', 'strengthen', 'strengths', 'stretching', 'strewn', 'striated', 'striations', 'strict', 'stride', 'strides', 'strikes', 'striking', 'strokes', 'strong', 'stronger', 'strongly', 'structural', 'structure', 'structured', 'structures', 'struggling', 'strung', 'stuck', 'study', 'stuff', 'stumpy', 'stunning', 'stupidly', 'sturdy', 'style', 'styled', 'styles', 'stylish', 'stylishly', 'stylishness', 'stylistic', 'stéphane', 'suave', 'sub', 'subdued', 'submerged', 'subordinate', 'subordinated', 'subpar', 'subregion', 'subservient', 'subsidiary', 'subsidy', 'substructure', 'subsumed', 'subsídio', 'subtle', 'subtlest', 'subtlety', 'subtly', 'suburbs', 'succeed', 'succeeded', 'succeeds', 'success', 'successes', 'successful', 'successfully', 'succession', 'succulence', 'succulent', 'such', 'suffer', 'suffers', 'sufficient', 'suffused', 'suffuses', 'sugar', 'sugared', 'sugary', 'suggest', 'suggesting', 'suggestion', 'suggestions', 'suggests', 'suit', 'suitable', 'suited', 'suits', 'sul', 'sulfur', 'sullen', 'sulphites', 'sulphur', 'sultana', 'sultanas', 'sum', 'summation', 'summer', 'summertime', 'summery', 'sumptuous', 'sums', 'sun', 'sunny', 'sunrise', 'sunshine', 'super', 'superb', 'superbly', 'superconcentrated', 'superfresh', 'superior', 'superlative', 'superpowerful', 'superrich', 'superripe', 'superripeness', 'superyro', 'supple', 'supplement', 'suppleness', 'suppler', 'supplied', 'supplies', 'supply', 'support', 'supported', 'supporting', 'supports', 'supposed', 'suppressed', 'suppresses', 'suppressing', 'supreme', 'supremely', 'sur', 'sure', 'surely', 'surface', 'surfaces', 'surfeit', 'surge', 'surgeon', 'surmounted', 'surprise', 'surprising', 'surprisingly', 'surround', 'surrounded', 'surrounding', 'surroundings', 'surrounds', 'survival', 'survives', 'sushi', 'suspended', 'suspension', 'sustain', 'sustained', 'sustaining', 'sustains', 'svelte', 'swagger', 'swath', 'swathe', 'swathed', 'swathes', 'sweep', 'sweeps', 'sweepstakes', 'sweet', 'sweetened', 'sweetens', 'sweeter', 'sweetest', 'sweetly', 'sweetness', 'sweety', 'swings', 'swipe', 'swirl', 'swirled', 'swiss', 'switzerland', 'symbols', 'symington', 'syrah', 'syrahs', 'syrup', 'syrupy', 'system', 'sâ', 'são', 'sé', 'sémillon', 'síria', 'table', 'tad', 'tagus', 'take', 'taken', 'takes', 'taking', 'tale', 'talented', 'talking', 'tall', 'tamarez', 'tame', 'tamed', 'tames', 'tandem', 'tang', 'tangerine', 'tangerines', 'tangled', 'tangy', 'tank', 'tanks', 'tannic', 'tannin', 'tanninc', 'tannins', 'tantalizingly', 'tapas', 'tar', 'target', 'tarragon', 'tarry', 'tart', 'taste', 'tasted', 'tasteless', 'tasters', 'tastes', 'tastevin', 'tasting', 'tastings', 'tasty', 'taut', 'tavares', 'tawnies', 'tawny', 'tawnys', 'taylor', 'tea', 'team', 'teamed', 'teased', 'tecedeiras', 'technique', 'techniques', 'tedo', 'tejo', 'telhas', 'tell', 'tells', 'temperate', 'tempered', 'templar', 'tempranillo', 'tempting', 'ten', 'tends', 'tense', 'tensely', 'tensile', 'tension', 'teresa', 'term', 'terms', 'terra', 'terraced', 'terraces', 'terrain', 'terrantez', 'terribly', 'terrific', 'terrifically', 'territory', 'terroir', 'terrugem', 'testament', 'tests', 'textural', 'texture', 'textured', 'textures', 'than', 'thankfully', 'thanks', 'that', 'the', 'their', 'them', 'theme', 'themselves', 'then', 'there', 'therefore', 'theresa', 'these', 'they', 'thick', 'thin', 'thinest', 'thing', 'things', 'think', 'third', 'this', 'thismisses', 'thoroughly', 'those', 'though', 'thought', 'thread', 'threatens', 'three', 'thrives', 'throated', 'through', 'throughout', 'throw', 'throwing', 'thrown', 'throws', 'thrust', 'thyme', 'tickle', 'tied', 'tight', 'tightened', 'tightens', 'tighter', 'tightly', 'tightness', 'tightrope', 'tigth', 'tiles', 'time', 'times', 'tinge', 'tinged', 'tingle', 'tingles', 'tingling', 'tinta', 'tinto', 'tints', 'tip', 'tired', 'tiring', 'title', 'to', 'toast', 'toasted', 'toastiness', 'toasty', 'tobacco', 'today', 'toffee', 'together', 'tomar', 'tomato', 'tomatoes', 'ton', 'tone', 'tones', 'tongue', 'tonic', 'too', 'took', 'top', 'topped', 'tops', 'torto', 'total', 'totally', 'touch', 'touched', 'touches', 'tough', 'toughness', 'touriga', 'touring', 'toward', 'towards', 'tower', 'town', 'tr', 'trace', 'traces', 'track', 'tracking', 'trade', 'trademark', 'tradition', 'traditional', 'traditionally', 'trained', 'trajadura', 'transform', 'transformation', 'transformed', 'translate', 'translates', 'translucent', 'transmontano', 'transmuted', 'transport', 'transtion', 'tras', 'travel', 'treacle', 'treacly', 'treading', 'treads', 'treasured', 'treat', 'treatment', 'tree', 'trees', 'trellises', 'trend', 'tres', 'tri', 'triangular', 'tributary', 'tribute', 'trick', 'tricky', 'tried', 'trincadeira', 'trodden', 'tropical', 'troughs', 'true', 'truffle', 'truffles', 'truffley', 'truly', 'trunks', 'try', 'trying', 'tthe', 'tua', 'tuned', 'turf', 'turn', 'turned', 'turning', 'turns', 'tweak', 'twelve', 'twice', 'twist', 'two', 'type', 'types', 'typical', 'typically', 'typicity', 'tyto', 'ultimately', 'ultra', 'ultradry', 'ultrafresh', 'ultraripe', 'ultrayoung', 'unattractive', 'unbalanced', 'unbalancing', 'unbearable', 'unclear', 'uncomfortable', 'uncomfortably', 'uncomplex', 'uncomplicated', 'unctuous', 'unctuously', 'undeniably', 'under', 'undercurrent', 'undergoes', 'undergrowth', 'underlay', 'underlaying', 'underlie', 'underlies', 'underlined', 'underlines', 'underlining', 'underly', 'underlying', 'underneath', 'underpin', 'underpinned', 'underripe', 'underscored', 'understated', 'undertone', 'undertones', 'undoubtedly', 'undrinkable', 'uneasily', 'unencumbered', 'unexpected', 'unexpectedly', 'unfiltered', 'unfocused', 'unfolds', 'unfortunate', 'unfortunately', 'ungrafted', 'unintegrated', 'union', 'unique', 'uniting', 'unity', 'unlike', 'unlikely', 'unlimited', 'unmerciful', 'unnecessarily', 'unnecessary', 'unoaked', 'unpleasant', 'unripe', 'unstructured', 'unsung', 'untamed', 'untested', 'until', 'unusual', 'unusually', 'up', 'upfront', 'upon', 'upper', 'upright', 'upside', 'ursa', 'us', 'use', 'used', 'uses', 'using', 'usual', 'usually', 'vadio', 'vaguest', 'val', 'vale', 'vallado', 'valle', 'valley', 'valleys', 'value', 'values', 'van', 'vanilla', 'varetal', 'vargellas', 'varietal', 'varietals', 'varieties', 'variety', 'various', 'vasco', 'vast', 'vats', 'vau', 'vaz', 've', 'veering', 'veers', 'vegetal', 'veil', 'veiled', 'vein', 'velha', 'velhas', 'velho', 'velvet', 'velvetine', 'velvety', 'veneer', 'venerable', 'ventos', 'ventozelo', 'venture', 'verde', 'verdelho', 'verdes', 'verdict', 'verdot', 'verge', 'verging', 'versatile', 'version', 'versions', 'versátil', 'very', 'vespa', 'vesuvio', 'vesúvio', 'vibrancy', 'vibrant', 'vicente', 'vidigal', 'vidigueira', 'vie', 'vieira', 'vies', 'view', 'vigor', 'vigorous', 'vila', 'vilacetinho', 'vilar', 'vilariça', 'village', 'villages', 'vin', 'vincent', 'vine', 'vines', 'vineyard', 'vineyards', 'vineyeard', 'vinha', 'vinhas', 'vinho', 'vinhos', 'vinhão', 'vinified', 'vintage', 'vintages', 'vinyl', 'viognier', 'violet', 'violets', 'violinists', 'viosinho', 'virility', 'viscous', 'viseu', 'visit', 'vital', 'viticulture', 'vivid', 'vividly', 'volatile', 'volatility', 'volcanic', 'vranken', 'vultures', 'vv', 'vvs', 'vying', 'waft', 'wafts', 'wait', 'waiting', 'wake', 'wall', 'walnut', 'walnuts', 'want', 'wanting', 'war', 'warm', 'warmer', 'warming', 'warmly', 'warmth', 'warrant', 'warre', 'wars', 'was', 'wash', 'wasn', 'watch', 'water', 'watering', 'watermelon', 'waters', 'wave', 'waves', 'wax', 'way', 'we', 'weakness', 'wearing', 'wears', 'weather', 'weave', 'weaves', 'weedy', 'weeks', 'weet', 'weighed', 'weight', 'weighted', 'weighty', 'weirdly', 'welcome', 'welcoming', 'well', 'welter', 'went', 'were', 'west', 'western', 'wet', 'wetter', 'what', 'whatever', 'wheatear', 'when', 'where', 'whether', 'which', 'whiff', 'whiffs', 'while', 'whim', 'whisked', 'whistle', 'white', 'whites', 'who', 'whole', 'whose', 'why', 'wide', 'widely', 'wiese', 'wife', 'wild', 'wildly', 'will', 'william', 'willing', 'wimp', 'win', 'winding', 'winds', 'windswept', 'wine', 'winebow', 'winemaker', 'winemakers', 'winemaking', 'winery', 'wines', 'winning', 'winter', 'wintergreen', 'wire', 'with', 'within', 'without', 'withstand', 'witnessed', 'wolves', 'won', 'wonderful', 'wonderfully', 'wonders', 'wood', 'wooded', 'wooden', 'woodhouse', 'woods', 'woody', 'word', 'work', 'worked', 'working', 'works', 'world', 'worlds', 'worth', 'worthwhile', 'worthy', 'would', 'wouldn', 'wound', 'wrap', 'wrapped', 'wraps', 'wrinkle', 'wrinkles', 'writer', 'wrought', 'ximenez', 'year', 'years', 'yeast', 'yeastiness', 'yeasts', 'yeasty', 'yello', 'yellow', 'yes', 'yet', 'yield', 'yielded', 'yielding', 'yields', 'yileding', 'york', 'you', 'young', 'younger', 'youngest', 'your', 'yours', 'youth', 'youthful', 'youthfully', 'youthfulness', 'zambujal', 'zeller', 'zest', 'zestiness', 'zesty', 'zinfandel', 'zing', 'zings', 'zingy', 'zip', 'zippy', 'zone', 'zoom']\n",
      "\n",
      "Identify Feature Words - Matrix View\n",
      "\n"
     ]
    },
    {
     "name": "stdout",
     "output_type": "stream",
     "text": [
      "[[0 0 0 ... 0 0 0]\n",
      " [0 0 0 ... 0 0 0]\n",
      " [0 0 0 ... 0 0 0]\n",
      " ...\n",
      " [0 0 0 ... 0 0 0]\n",
      " [0 0 0 ... 0 0 0]\n",
      " [0 0 0 ... 0 0 0]]\n"
     ]
    }
   ],
   "source": [
    "# vectorizing\n",
    "vectorizer = CountVectorizer()\n",
    "X = vectorizer.fit_transform(corpus)\n",
    "print(\"\")\n",
    "print(\"vectorized words\")\n",
    "print(\"\")\n",
    "print(vectorizer.get_feature_names())\n",
    "print(\"\")\n",
    "print(\"Identify Feature Words - Matrix View\")\n",
    "print(\"\")\n",
    "print( X.toarray())"
   ]
  },
  {
   "cell_type": "code",
   "execution_count": 24,
   "metadata": {},
   "outputs": [],
   "source": [
    "# reading the results into a dataframe\n",
    "df = pd.DataFrame({'Cat3' : corpus})"
   ]
  },
  {
   "cell_type": "code",
   "execution_count": 25,
   "metadata": {},
   "outputs": [],
   "source": [
    "#check for positive words and negative words\n",
    "# this could obviously be better, as there are far more words that could be used.\n",
    "# I could also think of ways to categorize flavors, scents and colors and present that after vectorizing\n",
    "# but I'll play the \"I'm new at this\" card one more time.\n",
    "df['positive1'] = df.Cat3.str.count('good')\n",
    "df['positive2']= df.Cat3.str.count('best')\n",
    "df['positive3']= df.Cat3.str.count('great')\n",
    "df['positive4']= df.Cat3.str.count('delicious')\n",
    "df['positive5']= df.Cat3.str.count('fantastic')\n",
    "df['positive6']= df.Cat3.str.count('amazing')\n",
    "\n",
    "df['negative1'] = df.Cat3.str.count('bad')\n",
    "df['negative2'] = df.Cat3.str.count('horrible')\n",
    "df['negative3'] = df.Cat3.str.count('terrible')\n",
    "df['negative4'] = df.Cat3.str.count('poor')\n",
    "df['negative5'] = df.Cat3.str.count('disgusting')\n",
    "df['negative6'] = df.Cat3.str.count('worst')\n",
    "\n",
    "df['TotScore'] = df.positive1 + df.positive2 + df.positive3 + df.positive4 + df.positive5 + df.positive6 - df.negative1 - df.negative2 - df.negative3 - df.negative4 - df.negative5 - df.negative6\n"
   ]
  },
  {
   "cell_type": "code",
   "execution_count": 26,
   "metadata": {},
   "outputs": [
    {
     "name": "stdout",
     "output_type": "stream",
     "text": [
      "\n",
      "                                                     Cat3  positive1  \\\n",
      "64      This is a super-ripe, still very young wine. I...          0   \n",
      "74      It is the ripe dark Alicante Bouschet that dom...          0   \n",
      "91      The local Baga grape, better known for produci...          0   \n",
      "94      This family-owned estate has produced an immed...          0   \n",
      "110     This state-owned estate of forests and vineyar...          0   \n",
      "119     This broad, fruity wine brings out ripe berry ...          0   \n",
      "168     Structured and firm, this is a dry wine with t...          0   \n",
      "210     A big, ripe and spicy wine, this is packed wit...          1   \n",
      "229     Almost ready to drink, this wood-aged wine is ...          0   \n",
      "238     Produced from old vines, this is an impressive...          0   \n",
      "277     Pure Alvarinho from the Monção region, it's ri...          0   \n",
      "278     This wood-aged wine comes from a small parcel ...          0   \n",
      "291     Violets, truffles and ripe black fruits are pr...          0   \n",
      "335     The top wine in the Rocim range is produced fr...          0   \n",
      "344     A classic northern Rhône valley blend of Syrah...          0   \n",
      "345     This is a rich, full-bodied wine that is ready...          0   \n",
      "353     A Garrafeira wine is a special selection and t...          0   \n",
      "450     Young Touriga Nacional vines produced this cri...          0   \n",
      "454     This wine is full of red berry flavor and soft...          0   \n",
      "457     This wine is produced from two of the quintas ...          0   \n",
      "471     This is a young, fruity wine made for early dr...          0   \n",
      "473     Tasting strongly of spicy wood, this wine is f...          0   \n",
      "478     This wine comes from the northern reaches of T...          0   \n",
      "479     This is a fashionably pale rosé, as light and ...          0   \n",
      "495     A palate of exotic perfumes with layers of dar...          0   \n",
      "512     Rui Madeira's flagship red is a formidable, po...          1   \n",
      "519     A solid, firm wine with a great rapport betwee...          0   \n",
      "521     This is a rich, full-bodied and wood-aged wine...          0   \n",
      "534     From a small parcel of land on the slopes of t...          0   \n",
      "603     With strong wood-aging flavors, this is a full...          0   \n",
      "...                                                   ...        ...   \n",
      "280060  Bual is the grape that creates the medium-swee...          0   \n",
      "280138  Full-bodied, spicy wine. It has a ripe, toast ...          0   \n",
      "280149  Grassy, herbaceous wine, with citrus and goose...          0   \n",
      "280158  A ripe and elegant wine, full of sweet fruits,...          0   \n",
      "280192  Dominated by the Trincadeira and Aragonez grap...          0   \n",
      "280193  This is a rich, wood-aged wine, with smoky aro...          0   \n",
      "280206  Rich and finely balanced, this wine combines s...          0   \n",
      "280353  This crisp, clean and ripe wine is finely bala...          0   \n",
      "280356  The wine is soft, smooth and full of rich berr...          0   \n",
      "280358  A generous blend of Alicante Bouschet, Touriga...          0   \n",
      "280361  Produced by the winemaking team of Casa Santos...          0   \n",
      "280364  With 35% Chardonnay in the blend and some wood...          0   \n",
      "280381  Made with rich Encruzado, full of apricot and ...          0   \n",
      "280382  This crisp wine is as light as a feather—fruit...          0   \n",
      "280416  This fruity wine boasts flavors of mango, pine...          0   \n",
      "280418  A spicy, ripe wine that is part of the second ...          0   \n",
      "280447  From 60-year-old bush vines, this is rich, spi...          0   \n",
      "280448  There is a toasty character to this wine with ...          0   \n",
      "280449  The 12-months of oak aging has given this wine...          0   \n",
      "280601  Two classic Dão grapes, Touriga Nacional and T...          0   \n",
      "280610  Old vines in a field blend give a rich structu...          0   \n",
      "280615  The red-juice grape Alicante Bouschet gives a ...          0   \n",
      "280672  Vineyards on the western slopes of the Serra d...          0   \n",
      "280789  The grape that is more commonly found in the D...          0   \n",
      "280790  This rich wine has a firm structure as well as...          0   \n",
      "280793  This mature wine that has 50% Touriga Nacional...          0   \n",
      "280794  A field blend from vines grown at 1290 feet, A...          0   \n",
      "280795  Celebrating the Portuguese discovery of the sp...          0   \n",
      "280831  Wood fermentation and aging have given this fi...          0   \n",
      "280890  Fresh and fruity, this is full of red cherry f...          0   \n",
      "\n",
      "        positive2  positive3  positive4  positive5  positive6  negative1  \\\n",
      "64              0          0          0          0          0          0   \n",
      "74              0          0          0          0          0          0   \n",
      "91              0          0          0          0          0          0   \n",
      "94              0          0          0          0          0          0   \n",
      "110             0          0          0          0          0          0   \n",
      "119             0          0          0          0          0          0   \n",
      "168             0          0          0          0          0          0   \n",
      "210             0          0          0          0          0          0   \n",
      "229             0          0          0          0          0          0   \n",
      "238             0          0          0          0          0          0   \n",
      "277             0          1          0          0          0          0   \n",
      "278             0          0          0          0          0          0   \n",
      "291             0          0          0          0          0          0   \n",
      "335             0          0          0          0          0          0   \n",
      "344             0          1          0          0          0          0   \n",
      "345             0          0          0          0          0          0   \n",
      "353             0          0          0          0          0          0   \n",
      "450             0          0          0          0          0          0   \n",
      "454             0          0          0          0          0          0   \n",
      "457             0          0          0          0          0          0   \n",
      "471             0          0          0          0          0          0   \n",
      "473             0          0          0          0          0          0   \n",
      "478             0          0          0          0          0          0   \n",
      "479             0          0          0          0          0          0   \n",
      "495             0          1          0          0          0          0   \n",
      "512             0          0          0          0          0          0   \n",
      "519             0          1          0          0          0          0   \n",
      "521             0          0          0          0          0          0   \n",
      "534             0          0          0          0          0          0   \n",
      "603             0          0          0          0          0          0   \n",
      "...           ...        ...        ...        ...        ...        ...   \n",
      "280060          0          1          0          0          0          0   \n",
      "280138          0          0          0          0          0          0   \n",
      "280149          0          0          0          0          0          0   \n",
      "280158          0          0          0          0          0          0   \n",
      "280192          0          0          0          0          0          0   \n",
      "280193          0          0          1          0          0          0   \n",
      "280206          0          0          0          0          0          0   \n",
      "280353          0          0          0          0          0          0   \n",
      "280356          0          0          0          0          0          0   \n",
      "280358          0          0          0          0          0          0   \n",
      "280361          0          0          0          0          0          0   \n",
      "280364          0          1          0          0          0          0   \n",
      "280381          0          0          0          0          0          0   \n",
      "280382          0          0          0          0          0          0   \n",
      "280416          0          0          0          0          0          0   \n",
      "280418          0          0          0          0          0          0   \n",
      "280447          0          0          0          0          0          0   \n",
      "280448          0          0          0          0          0          0   \n",
      "280449          0          0          0          0          0          0   \n",
      "280601          0          0          0          0          0          0   \n",
      "280610          0          0          0          0          0          0   \n",
      "280615          0          1          0          0          0          0   \n",
      "280672          0          0          1          0          0          0   \n",
      "280789          0          0          0          0          0          0   \n",
      "280790          0          0          1          0          0          0   \n",
      "280793          0          0          0          0          0          0   \n",
      "280794          0          0          0          0          0          0   \n",
      "280795          0          0          0          0          0          0   \n",
      "280831          0          0          0          0          0          0   \n",
      "280890          1          0          0          0          0          0   \n",
      "\n",
      "        negative2  negative3  negative4  negative5  negative6  TotScore  \n",
      "64              0          0          0          0          0         0  \n",
      "74              0          0          0          0          0         0  \n",
      "91              0          0          0          0          0         0  \n",
      "94              0          0          0          0          0         0  \n",
      "110             0          0          0          0          0         0  \n",
      "119             0          0          0          0          0         0  \n",
      "168             0          0          0          0          0         0  \n",
      "210             0          0          0          0          0         1  \n",
      "229             0          0          0          0          0         0  \n",
      "238             0          0          0          0          0         0  \n",
      "277             0          0          0          0          0         1  \n",
      "278             0          0          0          0          0         0  \n",
      "291             0          0          0          0          0         0  \n",
      "335             0          0          0          0          0         0  \n",
      "344             0          0          0          0          0         1  \n",
      "345             0          0          0          0          0         0  \n",
      "353             0          0          0          0          0         0  \n",
      "450             0          0          0          0          0         0  \n",
      "454             0          0          0          0          0         0  \n",
      "457             0          0          0          0          0         0  \n",
      "471             0          0          0          0          0         0  \n",
      "473             0          0          0          0          0         0  \n",
      "478             0          0          0          0          0         0  \n",
      "479             0          0          0          0          0         0  \n",
      "495             0          0          0          0          0         1  \n",
      "512             0          0          0          0          0         1  \n",
      "519             0          0          0          0          0         1  \n",
      "521             0          0          0          0          0         0  \n",
      "534             0          0          0          0          0         0  \n",
      "603             0          0          0          0          0         0  \n",
      "...           ...        ...        ...        ...        ...       ...  \n",
      "280060          0          0          0          0          0         1  \n",
      "280138          0          0          0          0          0         0  \n",
      "280149          0          0          0          0          0         0  \n",
      "280158          0          0          0          0          0         0  \n",
      "280192          0          0          0          0          0         0  \n",
      "280193          0          0          0          0          0         1  \n",
      "280206          0          0          0          0          0         0  \n",
      "280353          0          0          0          0          0         0  \n",
      "280356          0          0          0          0          0         0  \n",
      "280358          0          0          0          0          0         0  \n",
      "280361          0          0          0          0          0         0  \n",
      "280364          0          0          0          0          0         1  \n",
      "280381          0          0          0          0          0         0  \n",
      "280382          0          0          0          0          0         0  \n",
      "280416          0          0          0          0          0         0  \n",
      "280418          0          0          0          0          0         0  \n",
      "280447          0          0          0          0          0         0  \n",
      "280448          0          0          0          0          0         0  \n",
      "280449          0          0          0          0          0         0  \n",
      "280601          0          0          0          0          0         0  \n",
      "280610          0          0          0          0          0         0  \n",
      "280615          0          0          0          0          0         1  \n",
      "280672          0          0          0          0          0         1  \n",
      "280789          0          0          0          0          0         0  \n",
      "280790          0          0          0          0          0         1  \n",
      "280793          0          0          0          0          0         0  \n",
      "280794          0          0          0          0          0         0  \n",
      "280795          0          0          0          0          0         0  \n",
      "280831          0          0          0          0          0         0  \n",
      "280890          0          0          0          0          0         1  \n",
      "\n",
      "[11013 rows x 14 columns]\n"
     ]
    }
   ],
   "source": [
    "# see what we're working with \n",
    "print(\"\")\n",
    "print(df)"
   ]
  },
  {
   "cell_type": "code",
   "execution_count": 27,
   "metadata": {},
   "outputs": [
    {
     "name": "stdout",
     "output_type": "stream",
     "text": [
      "\n",
      "Overall Score:   2659\n"
     ]
    }
   ],
   "source": [
    "# showing the score for that restaurant\n",
    "Z = sum(df['TotScore'])\n",
    "print(\"\")\n",
    "print(\"Overall Score:  \",Z)"
   ]
  },
  {
   "cell_type": "code",
   "execution_count": null,
   "metadata": {},
   "outputs": [],
   "source": []
  }
 ],
 "metadata": {
  "kernelspec": {
   "display_name": "Python 3",
   "language": "python",
   "name": "python3"
  },
  "language_info": {
   "codemirror_mode": {
    "name": "ipython",
    "version": 3
   },
   "file_extension": ".py",
   "mimetype": "text/x-python",
   "name": "python",
   "nbconvert_exporter": "python",
   "pygments_lexer": "ipython3",
   "version": "3.7.1"
  }
 },
 "nbformat": 4,
 "nbformat_minor": 2
}
